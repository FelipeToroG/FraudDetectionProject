{
  "nbformat": 4,
  "nbformat_minor": 0,
  "metadata": {
    "colab": {
      "name": "Project_3.ipynb",
      "provenance": []
    },
    "kernelspec": {
      "name": "python3",
      "display_name": "Python 3"
    },
    "language_info": {
      "name": "python"
    }
  },
  "cells": [
    {
      "cell_type": "markdown",
      "metadata": {
        "id": "6izW0l7yG0n7"
      },
      "source": [
        "\n",
        "# **Importing libraries & uploading/reading the data**"
      ]
    },
    {
      "cell_type": "code",
      "metadata": {
        "id": "II1Bedq5FKO4",
        "colab": {
          "base_uri": "https://localhost:8080/"
        },
        "outputId": "1810e06c-4481-41dd-b543-0caf3dae46dc"
      },
      "source": [
        "# import libraries \n",
        "import pandas as pd\n",
        "import numpy as np\n",
        "import matplotlib.pyplot as plt\n",
        "import seaborn as sns\n",
        "from sklearn.model_selection import train_test_split, cross_val_score\n",
        "from sklearn.model_selection import GridSearchCV\n",
        "from sklearn import preprocessing\n",
        "from sklearn.preprocessing import StandardScaler\n",
        "from sklearn.metrics import classification_report, roc_auc_score, precision_recall_curve, accuracy_score,confusion_matrix, roc_curve, f1_score, recall_score, precision_score\n",
        "from sklearn.neural_network import MLPClassifier\n",
        "from imblearn.over_sampling import SMOTE\n",
        "from imblearn.under_sampling import NearMiss\n",
        "from collections import Counter\n",
        "from sklearn.ensemble import RandomForestClassifier\n",
        "\n",
        "# files are for uploading to and downloading from google collab \n",
        "from google.colab import files\n",
        "import io"
      ],
      "execution_count": 1,
      "outputs": [
        {
          "output_type": "stream",
          "text": [
            "/usr/local/lib/python3.7/dist-packages/sklearn/externals/six.py:31: FutureWarning: The module is deprecated in version 0.21 and will be removed in version 0.23 since we've dropped support for Python 2.7. Please rely on the official version of six (https://pypi.org/project/six/).\n",
            "  \"(https://pypi.org/project/six/).\", FutureWarning)\n",
            "/usr/local/lib/python3.7/dist-packages/sklearn/utils/deprecation.py:144: FutureWarning: The sklearn.neighbors.base module is  deprecated in version 0.22 and will be removed in version 0.24. The corresponding classes / functions should instead be imported from sklearn.neighbors. Anything that cannot be imported from sklearn.neighbors is now part of the private API.\n",
            "  warnings.warn(message, FutureWarning)\n"
          ],
          "name": "stderr"
        }
      ]
    },
    {
      "cell_type": "code",
      "metadata": {
        "id": "4o1Z8aalGpBR",
        "colab": {
          "resources": {
            "http://localhost:8080/nbextensions/google.colab/files.js": {
              "data": "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",
              "ok": true,
              "headers": [
                [
                  "content-type",
                  "application/javascript"
                ]
              ],
              "status": 200,
              "status_text": ""
            }
          },
          "base_uri": "https://localhost:8080/",
          "height": 0
        },
        "outputId": "1d532838-53ea-4343-aa35-91e198092821"
      },
      "source": [
        "#  Upload, download & read files \n",
        "uploaded = files.upload()"
      ],
      "execution_count": 2,
      "outputs": [
        {
          "output_type": "display_data",
          "data": {
            "text/html": [
              "\n",
              "     <input type=\"file\" id=\"files-dd0789aa-1758-4e92-9745-dd4030314c58\" name=\"files[]\" multiple disabled\n",
              "        style=\"border:none\" />\n",
              "     <output id=\"result-dd0789aa-1758-4e92-9745-dd4030314c58\">\n",
              "      Upload widget is only available when the cell has been executed in the\n",
              "      current browser session. Please rerun this cell to enable.\n",
              "      </output>\n",
              "      <script src=\"/nbextensions/google.colab/files.js\"></script> "
            ],
            "text/plain": [
              "<IPython.core.display.HTML object>"
            ]
          },
          "metadata": {
            "tags": []
          }
        },
        {
          "output_type": "stream",
          "text": [
            "Saving training_data_1.csv to training_data_1.csv\n"
          ],
          "name": "stdout"
        }
      ]
    },
    {
      "cell_type": "code",
      "metadata": {
        "id": "F9CV5iNPGtff"
      },
      "source": [
        "df = pd.read_csv(io.StringIO(uploaded['training_data_1.csv'].decode('utf-8')))\n"
      ],
      "execution_count": 3,
      "outputs": []
    },
    {
      "cell_type": "markdown",
      "metadata": {
        "id": "3r_gn65hNBO2"
      },
      "source": [
        "# **Understanding the data frame**\n"
      ]
    },
    {
      "cell_type": "code",
      "metadata": {
        "colab": {
          "base_uri": "https://localhost:8080/",
          "height": 0
        },
        "id": "AcTHZE-LNNYe",
        "outputId": "da313806-cb90-4fb0-bca4-b1f703c70e4f"
      },
      "source": [
        "# Data frame visualization \n",
        "df.head()"
      ],
      "execution_count": 4,
      "outputs": [
        {
          "output_type": "execute_result",
          "data": {
            "text/html": [
              "<div>\n",
              "<style scoped>\n",
              "    .dataframe tbody tr th:only-of-type {\n",
              "        vertical-align: middle;\n",
              "    }\n",
              "\n",
              "    .dataframe tbody tr th {\n",
              "        vertical-align: top;\n",
              "    }\n",
              "\n",
              "    .dataframe thead th {\n",
              "        text-align: right;\n",
              "    }\n",
              "</style>\n",
              "<table border=\"1\" class=\"dataframe\">\n",
              "  <thead>\n",
              "    <tr style=\"text-align: right;\">\n",
              "      <th></th>\n",
              "      <th>Transaction</th>\n",
              "      <th>X1</th>\n",
              "      <th>X2</th>\n",
              "      <th>X3</th>\n",
              "      <th>X4</th>\n",
              "      <th>X5</th>\n",
              "      <th>X6</th>\n",
              "      <th>X7</th>\n",
              "      <th>X8</th>\n",
              "      <th>X9</th>\n",
              "      <th>X10</th>\n",
              "      <th>X11</th>\n",
              "      <th>X12</th>\n",
              "      <th>X13</th>\n",
              "      <th>X14</th>\n",
              "      <th>X15</th>\n",
              "      <th>X16</th>\n",
              "      <th>X17</th>\n",
              "      <th>X18</th>\n",
              "      <th>X19</th>\n",
              "      <th>X20</th>\n",
              "      <th>X21</th>\n",
              "      <th>X22</th>\n",
              "      <th>X23</th>\n",
              "      <th>X24</th>\n",
              "      <th>X25</th>\n",
              "      <th>X26</th>\n",
              "      <th>X27</th>\n",
              "      <th>X28</th>\n",
              "      <th>X29</th>\n",
              "      <th>X30</th>\n",
              "      <th>Response</th>\n",
              "    </tr>\n",
              "  </thead>\n",
              "  <tbody>\n",
              "    <tr>\n",
              "      <th>0</th>\n",
              "      <td>T1</td>\n",
              "      <td>-1.359807</td>\n",
              "      <td>-0.072781</td>\n",
              "      <td>2.536347</td>\n",
              "      <td>1.378155</td>\n",
              "      <td>-0.338321</td>\n",
              "      <td>0.462388</td>\n",
              "      <td>0.239599</td>\n",
              "      <td>0.098698</td>\n",
              "      <td>0.363787</td>\n",
              "      <td>0.090794</td>\n",
              "      <td>-0.551600</td>\n",
              "      <td>-0.617801</td>\n",
              "      <td>-0.991390</td>\n",
              "      <td>-0.311169</td>\n",
              "      <td>1.468177</td>\n",
              "      <td>-0.470401</td>\n",
              "      <td>0.207971</td>\n",
              "      <td>0.025791</td>\n",
              "      <td>0.403993</td>\n",
              "      <td>0.251412</td>\n",
              "      <td>-0.018307</td>\n",
              "      <td>0.277838</td>\n",
              "      <td>-0.110474</td>\n",
              "      <td>0.066928</td>\n",
              "      <td>0.128539</td>\n",
              "      <td>-0.189115</td>\n",
              "      <td>0.133558</td>\n",
              "      <td>-0.021053</td>\n",
              "      <td>149.62</td>\n",
              "      <td>0.0</td>\n",
              "      <td>0</td>\n",
              "    </tr>\n",
              "    <tr>\n",
              "      <th>1</th>\n",
              "      <td>T2</td>\n",
              "      <td>1.191857</td>\n",
              "      <td>0.266151</td>\n",
              "      <td>0.166480</td>\n",
              "      <td>0.448154</td>\n",
              "      <td>0.060018</td>\n",
              "      <td>-0.082361</td>\n",
              "      <td>-0.078803</td>\n",
              "      <td>0.085102</td>\n",
              "      <td>-0.255425</td>\n",
              "      <td>-0.166974</td>\n",
              "      <td>1.612727</td>\n",
              "      <td>1.065235</td>\n",
              "      <td>0.489095</td>\n",
              "      <td>-0.143772</td>\n",
              "      <td>0.635558</td>\n",
              "      <td>0.463917</td>\n",
              "      <td>-0.114805</td>\n",
              "      <td>-0.183361</td>\n",
              "      <td>-0.145783</td>\n",
              "      <td>-0.069083</td>\n",
              "      <td>-0.225775</td>\n",
              "      <td>-0.638672</td>\n",
              "      <td>0.101288</td>\n",
              "      <td>-0.339846</td>\n",
              "      <td>0.167170</td>\n",
              "      <td>0.125895</td>\n",
              "      <td>-0.008983</td>\n",
              "      <td>0.014724</td>\n",
              "      <td>2.69</td>\n",
              "      <td>0.0</td>\n",
              "      <td>0</td>\n",
              "    </tr>\n",
              "    <tr>\n",
              "      <th>2</th>\n",
              "      <td>T3</td>\n",
              "      <td>-1.358354</td>\n",
              "      <td>-1.340163</td>\n",
              "      <td>1.773209</td>\n",
              "      <td>0.379780</td>\n",
              "      <td>-0.503198</td>\n",
              "      <td>1.800499</td>\n",
              "      <td>0.791461</td>\n",
              "      <td>0.247676</td>\n",
              "      <td>-1.514654</td>\n",
              "      <td>0.207643</td>\n",
              "      <td>0.624501</td>\n",
              "      <td>0.066084</td>\n",
              "      <td>0.717293</td>\n",
              "      <td>-0.165946</td>\n",
              "      <td>2.345865</td>\n",
              "      <td>-2.890083</td>\n",
              "      <td>1.109969</td>\n",
              "      <td>-0.121359</td>\n",
              "      <td>-2.261857</td>\n",
              "      <td>0.524980</td>\n",
              "      <td>0.247998</td>\n",
              "      <td>0.771679</td>\n",
              "      <td>0.909412</td>\n",
              "      <td>-0.689281</td>\n",
              "      <td>-0.327642</td>\n",
              "      <td>-0.139097</td>\n",
              "      <td>-0.055353</td>\n",
              "      <td>-0.059752</td>\n",
              "      <td>378.66</td>\n",
              "      <td>1.0</td>\n",
              "      <td>0</td>\n",
              "    </tr>\n",
              "    <tr>\n",
              "      <th>3</th>\n",
              "      <td>T4</td>\n",
              "      <td>-0.966272</td>\n",
              "      <td>-0.185226</td>\n",
              "      <td>1.792993</td>\n",
              "      <td>-0.863291</td>\n",
              "      <td>-0.010309</td>\n",
              "      <td>1.247203</td>\n",
              "      <td>0.237609</td>\n",
              "      <td>0.377436</td>\n",
              "      <td>-1.387024</td>\n",
              "      <td>-0.054952</td>\n",
              "      <td>-0.226487</td>\n",
              "      <td>0.178228</td>\n",
              "      <td>0.507757</td>\n",
              "      <td>-0.287924</td>\n",
              "      <td>-0.631418</td>\n",
              "      <td>-1.059647</td>\n",
              "      <td>-0.684093</td>\n",
              "      <td>1.965775</td>\n",
              "      <td>-1.232622</td>\n",
              "      <td>-0.208038</td>\n",
              "      <td>-0.108300</td>\n",
              "      <td>0.005274</td>\n",
              "      <td>-0.190321</td>\n",
              "      <td>-1.175575</td>\n",
              "      <td>0.647376</td>\n",
              "      <td>-0.221929</td>\n",
              "      <td>0.062723</td>\n",
              "      <td>0.061458</td>\n",
              "      <td>123.50</td>\n",
              "      <td>1.0</td>\n",
              "      <td>0</td>\n",
              "    </tr>\n",
              "    <tr>\n",
              "      <th>4</th>\n",
              "      <td>T5</td>\n",
              "      <td>-1.158233</td>\n",
              "      <td>0.877737</td>\n",
              "      <td>1.548718</td>\n",
              "      <td>0.403034</td>\n",
              "      <td>-0.407193</td>\n",
              "      <td>0.095921</td>\n",
              "      <td>0.592941</td>\n",
              "      <td>-0.270533</td>\n",
              "      <td>0.817739</td>\n",
              "      <td>0.753074</td>\n",
              "      <td>-0.822843</td>\n",
              "      <td>0.538196</td>\n",
              "      <td>1.345852</td>\n",
              "      <td>-1.119670</td>\n",
              "      <td>0.175121</td>\n",
              "      <td>-0.451449</td>\n",
              "      <td>-0.237033</td>\n",
              "      <td>-0.038195</td>\n",
              "      <td>0.803487</td>\n",
              "      <td>0.408542</td>\n",
              "      <td>-0.009431</td>\n",
              "      <td>0.798278</td>\n",
              "      <td>-0.137458</td>\n",
              "      <td>0.141267</td>\n",
              "      <td>-0.206010</td>\n",
              "      <td>0.502292</td>\n",
              "      <td>0.219422</td>\n",
              "      <td>0.215153</td>\n",
              "      <td>69.99</td>\n",
              "      <td>2.0</td>\n",
              "      <td>0</td>\n",
              "    </tr>\n",
              "  </tbody>\n",
              "</table>\n",
              "</div>"
            ],
            "text/plain": [
              "  Transaction        X1        X2        X3  ...       X28     X29  X30  Response\n",
              "0          T1 -1.359807 -0.072781  2.536347  ... -0.021053  149.62  0.0         0\n",
              "1          T2  1.191857  0.266151  0.166480  ...  0.014724    2.69  0.0         0\n",
              "2          T3 -1.358354 -1.340163  1.773209  ... -0.059752  378.66  1.0         0\n",
              "3          T4 -0.966272 -0.185226  1.792993  ...  0.061458  123.50  1.0         0\n",
              "4          T5 -1.158233  0.877737  1.548718  ...  0.215153   69.99  2.0         0\n",
              "\n",
              "[5 rows x 32 columns]"
            ]
          },
          "metadata": {
            "tags": []
          },
          "execution_count": 4
        }
      ]
    },
    {
      "cell_type": "code",
      "metadata": {
        "colab": {
          "base_uri": "https://localhost:8080/"
        },
        "id": "V9PbFeuXNUBA",
        "outputId": "764213ee-4b06-432f-b53a-06e06d819c4e"
      },
      "source": [
        "# Verify number of rows & columns \n",
        "print('(Rows, Columns) = ', df.shape)"
      ],
      "execution_count": 5,
      "outputs": [
        {
          "output_type": "stream",
          "text": [
            "(Rows, Columns) =  (249999, 32)\n"
          ],
          "name": "stdout"
        }
      ]
    },
    {
      "cell_type": "code",
      "metadata": {
        "colab": {
          "base_uri": "https://localhost:8080/"
        },
        "id": "QxavjJlsNWzS",
        "outputId": "540b26bd-af42-4461-f3b7-dbca9a4c74e6"
      },
      "source": [
        "list(df.columns.values) "
      ],
      "execution_count": 6,
      "outputs": [
        {
          "output_type": "execute_result",
          "data": {
            "text/plain": [
              "['Transaction',\n",
              " 'X1',\n",
              " 'X2',\n",
              " 'X3',\n",
              " 'X4',\n",
              " 'X5',\n",
              " 'X6',\n",
              " 'X7',\n",
              " 'X8',\n",
              " 'X9',\n",
              " 'X10',\n",
              " 'X11',\n",
              " 'X12',\n",
              " 'X13',\n",
              " 'X14',\n",
              " 'X15',\n",
              " 'X16',\n",
              " 'X17',\n",
              " 'X18',\n",
              " 'X19',\n",
              " 'X20',\n",
              " 'X21',\n",
              " 'X22',\n",
              " 'X23',\n",
              " 'X24',\n",
              " 'X25',\n",
              " 'X26',\n",
              " 'X27',\n",
              " 'X28',\n",
              " 'X29',\n",
              " 'X30',\n",
              " 'Response']"
            ]
          },
          "metadata": {
            "tags": []
          },
          "execution_count": 6
        }
      ]
    },
    {
      "cell_type": "code",
      "metadata": {
        "id": "-0kniz7ZfFSB",
        "colab": {
          "base_uri": "https://localhost:8080/",
          "height": 0
        },
        "outputId": "18f98bc9-9d76-4c64-c346-04027fd85462"
      },
      "source": [
        "# Checking data balance\n",
        "print('Number of Non-Fradulant(0) VS Fradulent Transactions(1):')\n",
        "print()\n",
        "sns.countplot(x=df['Response'])\n",
        "plt.savefig(\"response_histogram.png\")"
      ],
      "execution_count": 7,
      "outputs": [
        {
          "output_type": "stream",
          "text": [
            "Number of Non-Fradulant(0) VS Fradulent Transactions(1):\n",
            "\n"
          ],
          "name": "stdout"
        },
        {
          "output_type": "display_data",
          "data": {
            "image/png": "[encoded data removed]",
            "text/plain": [
              "<Figure size 432x288 with 1 Axes>"
            ]
          },
          "metadata": {
            "tags": [],
            "needs_background": "light"
          }
        }
      ]
    },
    {
      "cell_type": "markdown",
      "metadata": {
        "id": "a0gG_v5LdUfg"
      },
      "source": [
        "#**Data pre-processing**#"
      ]
    },
    {
      "cell_type": "code",
      "metadata": {
        "colab": {
          "base_uri": "https://localhost:8080/"
        },
        "id": "eZET81I7NrTF",
        "outputId": "28b08ba6-18cb-4b58-fffb-588c466ab3f7"
      },
      "source": [
        "# Find NA rows\n",
        "na_rows = df.isnull().sum()\n",
        "print(na_rows.sum())"
      ],
      "execution_count": 8,
      "outputs": [
        {
          "output_type": "stream",
          "text": [
            "61\n"
          ],
          "name": "stdout"
        }
      ]
    },
    {
      "cell_type": "code",
      "metadata": {
        "colab": {
          "base_uri": "https://localhost:8080/"
        },
        "id": "sUbPj7L_bCmN",
        "outputId": "a94b7994-76e4-4199-d847-0d2c50d64efd"
      },
      "source": [
        "# Remove NA rows\n",
        "df_clean = df.dropna()\n",
        "df_clean.shape"
      ],
      "execution_count": 9,
      "outputs": [
        {
          "output_type": "execute_result",
          "data": {
            "text/plain": [
              "(249943, 32)"
            ]
          },
          "metadata": {
            "tags": []
          },
          "execution_count": 9
        }
      ]
    },
    {
      "cell_type": "code",
      "metadata": {
        "id": "k3e4P0KUgaw-"
      },
      "source": [
        "# Remove 'Transaction' column \n",
        "df_clean = df_clean.drop(columns=['Transaction'])"
      ],
      "execution_count": 10,
      "outputs": []
    },
    {
      "cell_type": "code",
      "metadata": {
        "id": "9Vn7_y7ffzbf"
      },
      "source": [
        "# Separate x-values and y-values\n",
        "X = df_clean.iloc[:, :-1]\n",
        "Y = df_clean.iloc[:, -1]"
      ],
      "execution_count": 11,
      "outputs": []
    },
    {
      "cell_type": "markdown",
      "metadata": {
        "id": "LdJlIgcox2JO"
      },
      "source": [
        "# **Split & standardize data set** #"
      ]
    },
    {
      "cell_type": "code",
      "metadata": {
        "colab": {
          "base_uri": "https://localhost:8080/"
        },
        "id": "S_fgYfj7tjzF",
        "outputId": "f41836e5-1c86-4762-fbf2-01a4bcde82bd"
      },
      "source": [
        "# Split and train the data using stratify\n",
        "x_train, x_test, y_train, y_test = train_test_split(X, Y, test_size=0.30, stratify=Y, random_state=1)\n",
        "\n",
        "# How is data split. \n",
        "Counter(y_train)"
      ],
      "execution_count": 12,
      "outputs": [
        {
          "output_type": "execute_result",
          "data": {
            "text/plain": [
              "Counter({0: 174639, 1: 321})"
            ]
          },
          "metadata": {
            "tags": []
          },
          "execution_count": 12
        }
      ]
    },
    {
      "cell_type": "code",
      "metadata": {
        "colab": {
          "base_uri": "https://localhost:8080/"
        },
        "id": "WRVH4KYZuFK7",
        "outputId": "b23929f0-b927-4a2e-d536-2b85ef66ba89"
      },
      "source": [
        "# Standarize data set\n",
        "scaler = StandardScaler()\n",
        "scaler.fit(x_train)"
      ],
      "execution_count": 13,
      "outputs": [
        {
          "output_type": "execute_result",
          "data": {
            "text/plain": [
              "StandardScaler(copy=True, with_mean=True, with_std=True)"
            ]
          },
          "metadata": {
            "tags": []
          },
          "execution_count": 13
        }
      ]
    },
    {
      "cell_type": "code",
      "metadata": {
        "id": "gV6vMsTLuOWY"
      },
      "source": [
        "x_train = scaler.transform(x_train)\n",
        "x_test = scaler.transform(x_test)"
      ],
      "execution_count": 14,
      "outputs": []
    },
    {
      "cell_type": "markdown",
      "metadata": {
        "id": "hg1TXX-FrsUz"
      },
      "source": [
        "#**MODEL 1: Multilayer Perceptron (MLP) Model**#"
      ]
    },
    {
      "cell_type": "code",
      "metadata": {
        "id": "KF-kho0XrsU4",
        "colab": {
          "base_uri": "https://localhost:8080/"
        },
        "outputId": "3ec4d9d6-b0cd-4001-f015-9a56b982aa4c"
      },
      "source": [
        "# Create a base model\n",
        "mlp_class_1 = MLPClassifier(hidden_layer_sizes=(50,50,50), activation='logistic')\n",
        "\n",
        "#Fitting model\n",
        "mlp_class_1.fit(x_train, y_train)\n",
        "print('Parameters:', mlp_class_1)"
      ],
      "execution_count": 15,
      "outputs": [
        {
          "output_type": "stream",
          "text": [
            "Parameters: MLPClassifier(activation='logistic', alpha=0.0001, batch_size='auto',\n",
            "              beta_1=0.9, beta_2=0.999, early_stopping=False, epsilon=1e-08,\n",
            "              hidden_layer_sizes=(50, 50, 50), learning_rate='constant',\n",
            "              learning_rate_init=0.001, max_fun=15000, max_iter=200,\n",
            "              momentum=0.9, n_iter_no_change=10, nesterovs_momentum=True,\n",
            "              power_t=0.5, random_state=None, shuffle=True, solver='adam',\n",
            "              tol=0.0001, validation_fraction=0.1, verbose=False,\n",
            "              warm_start=False)\n"
          ],
          "name": "stdout"
        }
      ]
    },
    {
      "cell_type": "code",
      "metadata": {
        "id": "d_OcU-ijrsU6"
      },
      "source": [
        "# Predict y-values\n",
        "preds_MLP_1 = mlp_class_1.predict(x_test)"
      ],
      "execution_count": 16,
      "outputs": []
    },
    {
      "cell_type": "markdown",
      "metadata": {
        "id": "mt_CnNaxsdPO"
      },
      "source": [
        "**Results:**"
      ]
    },
    {
      "cell_type": "code",
      "metadata": {
        "colab": {
          "base_uri": "https://localhost:8080/",
          "height": 142
        },
        "id": "uz7RaCH4rsU7",
        "outputId": "4f020b40-f164-4462-91ae-501a09dfa795"
      },
      "source": [
        "# Confusion Matrix\n",
        "confusion_matrix_MLP = pd.crosstab(y_test, preds_MLP_1, rownames=['Actual'], colnames=['Predicted'])\n",
        "confusion_matrix_MLP"
      ],
      "execution_count": 17,
      "outputs": [
        {
          "output_type": "execute_result",
          "data": {
            "text/html": [
              "<div>\n",
              "<style scoped>\n",
              "    .dataframe tbody tr th:only-of-type {\n",
              "        vertical-align: middle;\n",
              "    }\n",
              "\n",
              "    .dataframe tbody tr th {\n",
              "        vertical-align: top;\n",
              "    }\n",
              "\n",
              "    .dataframe thead th {\n",
              "        text-align: right;\n",
              "    }\n",
              "</style>\n",
              "<table border=\"1\" class=\"dataframe\">\n",
              "  <thead>\n",
              "    <tr style=\"text-align: right;\">\n",
              "      <th>Predicted</th>\n",
              "      <th>0</th>\n",
              "      <th>1</th>\n",
              "    </tr>\n",
              "    <tr>\n",
              "      <th>Actual</th>\n",
              "      <th></th>\n",
              "      <th></th>\n",
              "    </tr>\n",
              "  </thead>\n",
              "  <tbody>\n",
              "    <tr>\n",
              "      <th>0</th>\n",
              "      <td>74825</td>\n",
              "      <td>21</td>\n",
              "    </tr>\n",
              "    <tr>\n",
              "      <th>1</th>\n",
              "      <td>27</td>\n",
              "      <td>110</td>\n",
              "    </tr>\n",
              "  </tbody>\n",
              "</table>\n",
              "</div>"
            ],
            "text/plain": [
              "Predicted      0    1\n",
              "Actual               \n",
              "0          74825   21\n",
              "1             27  110"
            ]
          },
          "metadata": {
            "tags": []
          },
          "execution_count": 17
        }
      ]
    },
    {
      "cell_type": "code",
      "metadata": {
        "colab": {
          "base_uri": "https://localhost:8080/"
        },
        "id": "5VUpzKdArsU7",
        "outputId": "b9f92b4c-6fc0-4c83-dbf2-59809fdead53"
      },
      "source": [
        "# Classification Report\n",
        "print(classification_report(y_test, preds_MLP_1))"
      ],
      "execution_count": 18,
      "outputs": [
        {
          "output_type": "stream",
          "text": [
            "              precision    recall  f1-score   support\n",
            "\n",
            "           0       1.00      1.00      1.00     74846\n",
            "           1       0.84      0.80      0.82       137\n",
            "\n",
            "    accuracy                           1.00     74983\n",
            "   macro avg       0.92      0.90      0.91     74983\n",
            "weighted avg       1.00      1.00      1.00     74983\n",
            "\n"
          ],
          "name": "stdout"
        }
      ]
    },
    {
      "cell_type": "code",
      "metadata": {
        "id": "KtofJ7_rrsU7",
        "colab": {
          "base_uri": "https://localhost:8080/"
        },
        "outputId": "0a95377e-5291-4b58-c3c6-631eedbee310"
      },
      "source": [
        "#f1 score\n",
        "print('f1 score = ',f1_score(y_test,preds_MLP_1))"
      ],
      "execution_count": 19,
      "outputs": [
        {
          "output_type": "stream",
          "text": [
            "f1 score =  0.8208955223880597\n"
          ],
          "name": "stdout"
        }
      ]
    },
    {
      "cell_type": "code",
      "metadata": {
        "colab": {
          "base_uri": "https://localhost:8080/"
        },
        "id": "xmK_zW_RrsU7",
        "outputId": "afd27c88-75d4-4f39-fa64-92891c30f6e2"
      },
      "source": [
        "# Accuracy\n",
        "accuracy_MLP = accuracy_score(y_test, preds_MLP_1)\n",
        "print('Accuracy_RF =', accuracy_MLP)"
      ],
      "execution_count": 20,
      "outputs": [
        {
          "output_type": "stream",
          "text": [
            "Accuracy_RF = 0.9993598549004441\n"
          ],
          "name": "stdout"
        }
      ]
    },
    {
      "cell_type": "markdown",
      "metadata": {
        "id": "klDpWE2VdmzI"
      },
      "source": [
        "# **MODEL 2: MLP model using GridSearch w/ Cross-Validation** #"
      ]
    },
    {
      "cell_type": "code",
      "metadata": {
        "id": "0n7u0BHtR8fb"
      },
      "source": [
        "# Using GridSearch to find the best n_neighbor value. \n",
        "param_grid_MLP = {\n",
        "    'hidden_layer_sizes': [(40,40,40),(60,60,60),(80,80,80)],\n",
        "    'activation': ['logistic'],\n",
        "    'alpha': [0.000001, 0.00001, 0.0001],\n",
        "    'max_iter': [300, 500],\n",
        "}\n",
        "# Create model\n",
        "mlp_class_2 = MLPClassifier()\n",
        "\n",
        "# Instantiate the grid search model\n",
        "grid_search_MLP = GridSearchCV(estimator=mlp_class_2,param_grid=param_grid_MLP,cv=5) "
      ],
      "execution_count": null,
      "outputs": []
    },
    {
      "cell_type": "code",
      "metadata": {
        "id": "FiohA3wmLXOZ",
        "colab": {
          "base_uri": "https://localhost:8080/"
        },
        "outputId": "da01477a-5058-4903-e66c-c0205438a822"
      },
      "source": [
        "# Fit the grid search to the data\n",
        "grid_search_MLP.fit(x_train, y_train)\n",
        "grid_search_MLP.best_params_"
      ],
      "execution_count": null,
      "outputs": [
        {
          "output_type": "execute_result",
          "data": {
            "text/plain": [
              "{'activation': 'logistic',\n",
              " 'alpha': 1e-06,\n",
              " 'hidden_layer_sizes': (80, 80, 80),\n",
              " 'max_iter': 300}"
            ]
          },
          "metadata": {
            "tags": []
          },
          "execution_count": 23
        }
      ]
    },
    {
      "cell_type": "code",
      "metadata": {
        "id": "eFiYfp6qzdDj",
        "colab": {
          "base_uri": "https://localhost:8080/"
        },
        "outputId": "b477ea6c-ef07-4f24-fe28-a4a2cd3cf26b"
      },
      "source": [
        "best_grid_MLP = grid_search_MLP.best_estimator_\n",
        "best_grid_MLP"
      ],
      "execution_count": null,
      "outputs": [
        {
          "output_type": "execute_result",
          "data": {
            "text/plain": [
              "MLPClassifier(activation='logistic', alpha=1e-06, batch_size='auto', beta_1=0.9,\n",
              "              beta_2=0.999, early_stopping=False, epsilon=1e-08,\n",
              "              hidden_layer_sizes=(80, 80, 80), learning_rate='constant',\n",
              "              learning_rate_init=0.001, max_fun=15000, max_iter=300,\n",
              "              momentum=0.9, n_iter_no_change=10, nesterovs_momentum=True,\n",
              "              power_t=0.5, random_state=None, shuffle=True, solver='adam',\n",
              "              tol=0.0001, validation_fraction=0.1, verbose=False,\n",
              "              warm_start=False)"
            ]
          },
          "metadata": {
            "tags": []
          },
          "execution_count": 24
        }
      ]
    },
    {
      "cell_type": "code",
      "metadata": {
        "id": "g-8CUne0ZuRT"
      },
      "source": [
        "# Predict y-values\n",
        "preds_MLP_2Grid = best_grid_MLP.predict(x_test)"
      ],
      "execution_count": null,
      "outputs": []
    },
    {
      "cell_type": "code",
      "metadata": {
        "id": "AgXGaAFVIDAQ",
        "colab": {
          "base_uri": "https://localhost:8080/",
          "height": 142
        },
        "outputId": "afcb3cb7-a76e-4e72-a9e9-ef8cc68e7090"
      },
      "source": [
        "# Confusion Matrix\n",
        "confusion_matrix_MLP = pd.crosstab(y_test, preds_MLP_2Grid, rownames=['Actual'], colnames=['Predicted'])\n",
        "confusion_matrix_MLP"
      ],
      "execution_count": null,
      "outputs": [
        {
          "output_type": "execute_result",
          "data": {
            "text/html": [
              "<div>\n",
              "<style scoped>\n",
              "    .dataframe tbody tr th:only-of-type {\n",
              "        vertical-align: middle;\n",
              "    }\n",
              "\n",
              "    .dataframe tbody tr th {\n",
              "        vertical-align: top;\n",
              "    }\n",
              "\n",
              "    .dataframe thead th {\n",
              "        text-align: right;\n",
              "    }\n",
              "</style>\n",
              "<table border=\"1\" class=\"dataframe\">\n",
              "  <thead>\n",
              "    <tr style=\"text-align: right;\">\n",
              "      <th>Predicted</th>\n",
              "      <th>0</th>\n",
              "      <th>1</th>\n",
              "    </tr>\n",
              "    <tr>\n",
              "      <th>Actual</th>\n",
              "      <th></th>\n",
              "      <th></th>\n",
              "    </tr>\n",
              "  </thead>\n",
              "  <tbody>\n",
              "    <tr>\n",
              "      <th>0</th>\n",
              "      <td>74830</td>\n",
              "      <td>16</td>\n",
              "    </tr>\n",
              "    <tr>\n",
              "      <th>1</th>\n",
              "      <td>25</td>\n",
              "      <td>112</td>\n",
              "    </tr>\n",
              "  </tbody>\n",
              "</table>\n",
              "</div>"
            ],
            "text/plain": [
              "Predicted      0    1\n",
              "Actual               \n",
              "0          74830   16\n",
              "1             25  112"
            ]
          },
          "metadata": {
            "tags": []
          },
          "execution_count": 38
        }
      ]
    },
    {
      "cell_type": "code",
      "metadata": {
        "id": "z9gDXKjjEiqY",
        "colab": {
          "base_uri": "https://localhost:8080/"
        },
        "outputId": "4a884201-fe17-4f80-f7d9-4ffee69c1194"
      },
      "source": [
        "# f1 score\n",
        "print('f1 score= ', f1_score(y_test, preds_MLP_2Grid))"
      ],
      "execution_count": null,
      "outputs": [
        {
          "output_type": "stream",
          "text": [
            "f1 score=  0.8452830188679246\n"
          ],
          "name": "stdout"
        }
      ]
    },
    {
      "cell_type": "code",
      "metadata": {
        "id": "-9HFAhrF6dcU",
        "colab": {
          "base_uri": "https://localhost:8080/"
        },
        "outputId": "dcae92da-1e21-48da-f52d-147707098941"
      },
      "source": [
        "# Classification Report\n",
        "print(classification_report(y_test, preds_MLP_2Grid))"
      ],
      "execution_count": null,
      "outputs": [
        {
          "output_type": "stream",
          "text": [
            "              precision    recall  f1-score   support\n",
            "\n",
            "           0       1.00      1.00      1.00     74846\n",
            "           1       0.88      0.82      0.85       137\n",
            "\n",
            "    accuracy                           1.00     74983\n",
            "   macro avg       0.94      0.91      0.92     74983\n",
            "weighted avg       1.00      1.00      1.00     74983\n",
            "\n"
          ],
          "name": "stdout"
        }
      ]
    },
    {
      "cell_type": "code",
      "metadata": {
        "id": "0azOt8dD5rJ7",
        "colab": {
          "base_uri": "https://localhost:8080/"
        },
        "outputId": "73602e65-8a02-4b9f-d98a-182ffea8ccb4"
      },
      "source": [
        "# Accuracy\n",
        "accuracy_MLP_2 = accuracy_score(y_test, preds_MLP_2Grid)\n",
        "print('Accuracy_RF =', accuracy_MLP)"
      ],
      "execution_count": null,
      "outputs": [
        {
          "output_type": "stream",
          "text": [
            "Accuracy_RF = 0.9993731912566849\n"
          ],
          "name": "stdout"
        }
      ]
    },
    {
      "cell_type": "code",
      "metadata": {
        "id": "lBF_0_-4IdqC",
        "colab": {
          "base_uri": "https://localhost:8080/",
          "height": 254
        },
        "outputId": "85438a12-13a3-4536-df3a-47f005b3fe11"
      },
      "source": [
        "def plot_confusion_matrix(confusion_matrix_MLP, title='Confusion matrix', cmap=plt.cm.gray_r):\n",
        "    plt.matshow(confusion_matrix_MLP, cmap=cmap) # imshow\n",
        "    #plt.title(title)\n",
        "    plt.colorbar()\n",
        "    tick_marks = np.arange(len(confusion_matrix_MLP.columns))\n",
        "    plt.xticks(tick_marks, confusion_matrix_MLP.columns, rotation=45)\n",
        "    plt.yticks(tick_marks, confusion_matrix_MLP.index)\n",
        "    #plt.tight_layout()\n",
        "    plt.ylabel(confusion_matrix_MLP.index.name)\n",
        "    plt.xlabel(confusion_matrix_MLP.columns.name)\n",
        "\n",
        "plot_confusion_matrix(confusion_matrix_MLP)\n",
        "plt.savefig(\"confusion matrix.png\")"
      ],
      "execution_count": null,
      "outputs": [
        {
          "output_type": "display_data",
          "data": {
            "image/png": "[encoded data removed]",
            "text/plain": [
              "<Figure size 288x288 with 2 Axes>"
            ]
          },
          "metadata": {
            "tags": [],
            "needs_background": "light"
          }
        }
      ]
    },
    {
      "cell_type": "code",
      "metadata": {
        "id": "3yCBaVrB0ZCm",
        "colab": {
          "base_uri": "https://localhost:8080/"
        },
        "outputId": "c14d1283-0e6d-48c2-c5de-07c9a7c0b48c"
      },
      "source": [
        "precision = precision_score(y_test, preds_MLP_2Grid)\n",
        "print('Precision: ', precision)\n",
        "recall = recall_score(y_test, preds_MLP_2Grid)\n",
        "print('recall: ', recall)"
      ],
      "execution_count": null,
      "outputs": [
        {
          "output_type": "stream",
          "text": [
            "Precision:  0.875\n",
            "recall:  0.8175182481751825\n"
          ],
          "name": "stdout"
        }
      ]
    },
    {
      "cell_type": "code",
      "metadata": {
        "id": "44zybtA3HmhQ",
        "colab": {
          "base_uri": "https://localhost:8080/",
          "height": 295
        },
        "outputId": "52d0048b-e60d-4e52-8b16-3bbf3fd2e2e0"
      },
      "source": [
        "# Precision Recall Curve\n",
        "preds_grid_MLP_prob = best_grid_MLP.predict_proba(x_test)[:,1]\n",
        "precision, recall, thresholds = precision_recall_curve(y_test, preds_grid_MLP_prob)\n",
        "\n",
        "plt.plot(precision, recall)\n",
        "plt.xlabel('Recall')\n",
        "plt.ylabel('Precision')\n",
        "plt.title('Precision Recall Curve')\n",
        "plt.savefig(\"precision_recall_curve.png\")"
      ],
      "execution_count": null,
      "outputs": [
        {
          "output_type": "display_data",
          "data": {
            "image/png": "[encoded data removed]",
            "text/plain": [
              "<Figure size 432x288 with 1 Axes>"
            ]
          },
          "metadata": {
            "tags": [],
            "needs_background": "light"
          }
        }
      ]
    },
    {
      "cell_type": "code",
      "metadata": {
        "id": "RA3ADmyTIAA2",
        "colab": {
          "base_uri": "https://localhost:8080/"
        },
        "outputId": "b3e5cf51-9572-43c7-b5ef-87f4bc4e08f2"
      },
      "source": [
        "print('recall: ', recall)\n",
        "print('Precision: ', precision)"
      ],
      "execution_count": null,
      "outputs": [
        {
          "output_type": "stream",
          "text": [
            "recall:  [1.         0.99270073 0.99270073 ... 0.01459854 0.00729927 0.        ]\n",
            "Precision:  [0.00322793 0.00320445 0.00320452 ... 1.         1.         1.        ]\n"
          ],
          "name": "stdout"
        }
      ]
    },
    {
      "cell_type": "code",
      "metadata": {
        "id": "1LxcNQRiKvpD",
        "colab": {
          "base_uri": "https://localhost:8080/"
        },
        "outputId": "9dd1e33d-8805-4f17-cdc2-b9e5b350972d"
      },
      "source": [
        "# AUC score \n",
        "print(\"AUC score is: \", roc_auc_score(y_test, preds_MLP_2Grid))"
      ],
      "execution_count": null,
      "outputs": [
        {
          "output_type": "stream",
          "text": [
            "AUC score is:  0.9086522379480513\n"
          ],
          "name": "stdout"
        }
      ]
    },
    {
      "cell_type": "code",
      "metadata": {
        "id": "YlYpXU0p8uWW",
        "colab": {
          "base_uri": "https://localhost:8080/",
          "height": 295
        },
        "outputId": "5e879897-a1ea-413c-82fc-93e87c774644"
      },
      "source": [
        "# Receiving operating characteristics: ROC_score & ROC_curve\n",
        "logit_roc_auc = roc_auc_score(y_test, best_grid_MLP.predict(x_test))\n",
        "fpr, tpr, thresholds = roc_curve(y_test, best_grid_MLP.predict_proba(x_test)[:,1])\n",
        "plt.figure()\n",
        "plt.plot(fpr, tpr, label='RandomForestClassifier (area = %0.2f)' % logit_roc_auc)\n",
        "plt.plot([0, 1], [0, 1],'r--')\n",
        "plt.xlim([0.0, 1.0])\n",
        "plt.ylim([0.0, 1.05])\n",
        "plt.xlabel('False Positive Rate')\n",
        "plt.ylabel('True Positive Rate')\n",
        "plt.title('Receiver operating characteristic')\n",
        "plt.legend(loc=\"lower right\")\n",
        "plt.savefig('Log_ROC')\n",
        "plt.show()"
      ],
      "execution_count": null,
      "outputs": [
        {
          "output_type": "display_data",
          "data": {
            "image/png": "[encoded data removed]",
            "text/plain": [
              "<Figure size 432x288 with 1 Axes>"
            ]
          },
          "metadata": {
            "tags": [],
            "needs_background": "light"
          }
        }
      ]
    },
    {
      "cell_type": "code",
      "metadata": {
        "id": "nZPuYdZtxUgJ"
      },
      "source": [
        "#define a function that accepts a threshold and prints sensitivity and specificity\n",
        "def evaluate_threshold(threshold):\n",
        "  print ('Sensitivity:', tpr[thresholds > threshold][-1])\n",
        "  print ('Specificity:', 1-fpr[thresholds > threshold][-1])"
      ],
      "execution_count": 69,
      "outputs": []
    },
    {
      "cell_type": "code",
      "metadata": {
        "id": "KEcfK2ZBzm2_",
        "colab": {
          "base_uri": "https://localhost:8080/"
        },
        "outputId": "fd39ab77-ad9c-43d6-c91a-e409879a3760"
      },
      "source": [
        "evaluate_threshold(0.5)"
      ],
      "execution_count": null,
      "outputs": [
        {
          "output_type": "stream",
          "text": [
            "Sensitivity: 0.8175182481751825\n",
            "Specificity: 0.9998263100232477\n"
          ],
          "name": "stdout"
        }
      ]
    },
    {
      "cell_type": "markdown",
      "metadata": {
        "id": "lCluWKqOvERF"
      },
      "source": [
        "# **MODEL 3: MLP Model using NearMiss-undersampling** #"
      ]
    },
    {
      "cell_type": "code",
      "metadata": {
        "colab": {
          "base_uri": "https://localhost:8080/"
        },
        "id": "Oqc-NRsPvJ8Q",
        "outputId": "69f6603b-b7af-4a05-fe34-4ca9d101b43e"
      },
      "source": [
        "# Perform undersampling technique; Create new synthetic data (1) samples.  \n",
        "nm = NearMiss(n_neighbors=3)\n",
        "x_train, y_train = nm.fit_sample(x_train, y_train)"
      ],
      "execution_count": null,
      "outputs": [
        {
          "output_type": "stream",
          "text": [
            "/usr/local/lib/python3.7/dist-packages/sklearn/utils/deprecation.py:87: FutureWarning: Function safe_indexing is deprecated; safe_indexing is deprecated in version 0.22 and will be removed in version 0.24.\n",
            "  warnings.warn(msg, category=FutureWarning)\n",
            "/usr/local/lib/python3.7/dist-packages/sklearn/utils/deprecation.py:87: FutureWarning: Function safe_indexing is deprecated; safe_indexing is deprecated in version 0.22 and will be removed in version 0.24.\n",
            "  warnings.warn(msg, category=FutureWarning)\n",
            "/usr/local/lib/python3.7/dist-packages/sklearn/utils/deprecation.py:87: FutureWarning: Function safe_indexing is deprecated; safe_indexing is deprecated in version 0.22 and will be removed in version 0.24.\n",
            "  warnings.warn(msg, category=FutureWarning)\n"
          ],
          "name": "stderr"
        }
      ]
    },
    {
      "cell_type": "code",
      "metadata": {
        "colab": {
          "base_uri": "https://localhost:8080/"
        },
        "id": "hLdR-xfvwTWf",
        "outputId": "e038a6ce-ee03-4f7f-9f9d-795b7779bc94"
      },
      "source": [
        "Counter(y_train)"
      ],
      "execution_count": null,
      "outputs": [
        {
          "output_type": "execute_result",
          "data": {
            "text/plain": [
              "Counter({0: 321, 1: 321})"
            ]
          },
          "metadata": {
            "tags": []
          },
          "execution_count": 56
        }
      ]
    },
    {
      "cell_type": "code",
      "metadata": {
        "colab": {
          "base_uri": "https://localhost:8080/"
        },
        "id": "sJYWKUOBwU5R",
        "outputId": "a95df33a-c735-4426-ebdb-ac601d51c103"
      },
      "source": [
        "# Create model\n",
        "mlp_class_3 = MLPClassifier(hidden_layer_sizes=(50,50,50), activation='logistic', alpha=0.000001, max_iter= 300)\n",
        "\n",
        "#Fitting model\n",
        "mlp_class_3.fit(x_train,y_train)\n",
        "print('Parameters:', mlp_class_3)"
      ],
      "execution_count": null,
      "outputs": [
        {
          "output_type": "stream",
          "text": [
            "Parameters: MLPClassifier(activation='logistic', alpha=1e-06, batch_size='auto', beta_1=0.9,\n",
            "              beta_2=0.999, early_stopping=False, epsilon=1e-08,\n",
            "              hidden_layer_sizes=(50, 50, 50), learning_rate='constant',\n",
            "              learning_rate_init=0.001, max_fun=15000, max_iter=300,\n",
            "              momentum=0.9, n_iter_no_change=10, nesterovs_momentum=True,\n",
            "              power_t=0.5, random_state=None, shuffle=True, solver='adam',\n",
            "              tol=0.0001, validation_fraction=0.1, verbose=False,\n",
            "              warm_start=False)\n"
          ],
          "name": "stdout"
        },
        {
          "output_type": "stream",
          "text": [
            "/usr/local/lib/python3.7/dist-packages/sklearn/neural_network/_multilayer_perceptron.py:571: ConvergenceWarning: Stochastic Optimizer: Maximum iterations (300) reached and the optimization hasn't converged yet.\n",
            "  % self.max_iter, ConvergenceWarning)\n"
          ],
          "name": "stderr"
        }
      ]
    },
    {
      "cell_type": "code",
      "metadata": {
        "id": "H7qhRb4JwYDl"
      },
      "source": [
        "# Predict y-values\n",
        "preds_MLP_3 = mlp_class_3.predict(x_test)"
      ],
      "execution_count": null,
      "outputs": []
    },
    {
      "cell_type": "code",
      "metadata": {
        "colab": {
          "base_uri": "https://localhost:8080/",
          "height": 142
        },
        "id": "6867_wQow-kO",
        "outputId": "958040d3-9c2d-4169-c9a7-157ce4bc2bc2"
      },
      "source": [
        "# Confusion Matrix\n",
        "confusion_matrix_MLP = pd.crosstab(y_test, preds_MLP_3, rownames=['Actual'], colnames=['Predicted'])\n",
        "confusion_matrix_MLP"
      ],
      "execution_count": null,
      "outputs": [
        {
          "output_type": "execute_result",
          "data": {
            "text/html": [
              "<div>\n",
              "<style scoped>\n",
              "    .dataframe tbody tr th:only-of-type {\n",
              "        vertical-align: middle;\n",
              "    }\n",
              "\n",
              "    .dataframe tbody tr th {\n",
              "        vertical-align: top;\n",
              "    }\n",
              "\n",
              "    .dataframe thead th {\n",
              "        text-align: right;\n",
              "    }\n",
              "</style>\n",
              "<table border=\"1\" class=\"dataframe\">\n",
              "  <thead>\n",
              "    <tr style=\"text-align: right;\">\n",
              "      <th>Predicted</th>\n",
              "      <th>0</th>\n",
              "      <th>1</th>\n",
              "    </tr>\n",
              "    <tr>\n",
              "      <th>Actual</th>\n",
              "      <th></th>\n",
              "      <th></th>\n",
              "    </tr>\n",
              "  </thead>\n",
              "  <tbody>\n",
              "    <tr>\n",
              "      <th>0</th>\n",
              "      <td>25235</td>\n",
              "      <td>49611</td>\n",
              "    </tr>\n",
              "    <tr>\n",
              "      <th>1</th>\n",
              "      <td>3</td>\n",
              "      <td>134</td>\n",
              "    </tr>\n",
              "  </tbody>\n",
              "</table>\n",
              "</div>"
            ],
            "text/plain": [
              "Predicted      0      1\n",
              "Actual                 \n",
              "0          25235  49611\n",
              "1              3    134"
            ]
          },
          "metadata": {
            "tags": []
          },
          "execution_count": 68
        }
      ]
    },
    {
      "cell_type": "code",
      "metadata": {
        "colab": {
          "base_uri": "https://localhost:8080/"
        },
        "id": "AFjGS9LCxCqp",
        "outputId": "3d38ff3a-9413-40ae-e045-735e1a3c314d"
      },
      "source": [
        "# Classification Report\n",
        "print(classification_report(y_test, preds_MLP_3))"
      ],
      "execution_count": null,
      "outputs": [
        {
          "output_type": "stream",
          "text": [
            "              precision    recall  f1-score   support\n",
            "\n",
            "           0       1.00      0.34      0.50     74846\n",
            "           1       0.00      0.98      0.01       137\n",
            "\n",
            "    accuracy                           0.34     74983\n",
            "   macro avg       0.50      0.66      0.25     74983\n",
            "weighted avg       1.00      0.34      0.50     74983\n",
            "\n"
          ],
          "name": "stdout"
        }
      ]
    },
    {
      "cell_type": "code",
      "metadata": {
        "colab": {
          "base_uri": "https://localhost:8080/"
        },
        "id": "Zyud3_oNxUVH",
        "outputId": "aeb9f9bf-c9fa-4f39-d3af-da83558f34a9"
      },
      "source": [
        "#f1 score\n",
        "print('f1 score = ',f1_score(y_test,preds_MLP_3))"
      ],
      "execution_count": null,
      "outputs": [
        {
          "output_type": "stream",
          "text": [
            "f1 score =  0.005372679523675875\n"
          ],
          "name": "stdout"
        }
      ]
    },
    {
      "cell_type": "markdown",
      "metadata": {
        "id": "J54zq_m0H0Pm"
      },
      "source": [
        "#**MODEL 4: MLP Model using SMOTE-oversampling**#"
      ]
    },
    {
      "cell_type": "code",
      "metadata": {
        "colab": {
          "base_uri": "https://localhost:8080/"
        },
        "id": "BVVlw66i1Xy-",
        "outputId": "ce28de7d-e6e6-4c8a-91b0-c3ecb7c22c5f"
      },
      "source": [
        "# Split and train the data using stratify\n",
        "x_train, x_test, y_train, y_test = train_test_split(X, Y, test_size=0.30, stratify=Y, random_state=1)\n",
        "\n",
        "# How is data split. \n",
        "Counter(y_train)"
      ],
      "execution_count": null,
      "outputs": [
        {
          "output_type": "execute_result",
          "data": {
            "text/plain": [
              "Counter({0: 174639, 1: 321})"
            ]
          },
          "metadata": {
            "tags": []
          },
          "execution_count": 16
        }
      ]
    },
    {
      "cell_type": "code",
      "metadata": {
        "colab": {
          "base_uri": "https://localhost:8080/"
        },
        "id": "0KBiv8G81YwP",
        "outputId": "28734849-df78-422d-d297-253fc3b2ecd7"
      },
      "source": [
        "scaler = StandardScaler()\n",
        "scaler.fit(x_train)"
      ],
      "execution_count": null,
      "outputs": [
        {
          "output_type": "execute_result",
          "data": {
            "text/plain": [
              "StandardScaler(copy=True, with_mean=True, with_std=True)"
            ]
          },
          "metadata": {
            "tags": []
          },
          "execution_count": 17
        }
      ]
    },
    {
      "cell_type": "code",
      "metadata": {
        "id": "4KWjNT9h1bcr"
      },
      "source": [
        "x_train = scaler.transform(x_train)\n",
        "x_test = scaler.transform(x_test)"
      ],
      "execution_count": null,
      "outputs": []
    },
    {
      "cell_type": "code",
      "metadata": {
        "colab": {
          "base_uri": "https://localhost:8080/"
        },
        "id": "e9EWtNrRISpZ",
        "outputId": "7829c028-d2bb-408f-9a72-005215f7f967"
      },
      "source": [
        "# Perform oversampling technique; Create new synthetic data (1) samples.  \n",
        "sm = SMOTE(random_state=10, k_neighbors=5)\n",
        "x_train, y_train = sm.fit_sample(x_train, y_train)"
      ],
      "execution_count": null,
      "outputs": [
        {
          "output_type": "stream",
          "text": [
            "/usr/local/lib/python3.7/dist-packages/sklearn/utils/deprecation.py:87: FutureWarning: Function safe_indexing is deprecated; safe_indexing is deprecated in version 0.22 and will be removed in version 0.24.\n",
            "  warnings.warn(msg, category=FutureWarning)\n"
          ],
          "name": "stderr"
        }
      ]
    },
    {
      "cell_type": "code",
      "metadata": {
        "colab": {
          "base_uri": "https://localhost:8080/"
        },
        "id": "Z4vL4GN3vrC9",
        "outputId": "269f2795-66d1-4e6a-ee72-9d2cf074dcb0"
      },
      "source": [
        "# New data: Even split\n",
        "Counter(y_train)"
      ],
      "execution_count": null,
      "outputs": [
        {
          "output_type": "execute_result",
          "data": {
            "text/plain": [
              "Counter({0: 174639, 1: 174639})"
            ]
          },
          "metadata": {
            "tags": []
          },
          "execution_count": 20
        }
      ]
    },
    {
      "cell_type": "code",
      "metadata": {
        "colab": {
          "base_uri": "https://localhost:8080/"
        },
        "id": "ePT35oqBH0P1",
        "outputId": "306e2a99-c122-4e60-af9d-54384aa939c0"
      },
      "source": [
        "# Create model\n",
        "mlp_class_4 = MLPClassifier(hidden_layer_sizes=(50,50,50), activation='logistic', alpha=0.000001, max_iter= 300)\n",
        "\n",
        "#Fitting model\n",
        "mlp_class_4.fit(x_train,y_train)\n",
        "print('Parameters:', mlp_class_4)"
      ],
      "execution_count": null,
      "outputs": [
        {
          "output_type": "stream",
          "text": [
            "Parameters: MLPClassifier(activation='logistic', alpha=1e-06, batch_size='auto', beta_1=0.9,\n",
            "              beta_2=0.999, early_stopping=False, epsilon=1e-08,\n",
            "              hidden_layer_sizes=(50, 50, 50), learning_rate='constant',\n",
            "              learning_rate_init=0.001, max_fun=15000, max_iter=300,\n",
            "              momentum=0.9, n_iter_no_change=10, nesterovs_momentum=True,\n",
            "              power_t=0.5, random_state=None, shuffle=True, solver='adam',\n",
            "              tol=0.0001, validation_fraction=0.1, verbose=False,\n",
            "              warm_start=False)\n"
          ],
          "name": "stdout"
        }
      ]
    },
    {
      "cell_type": "code",
      "metadata": {
        "id": "8H2dp8nnH0P2"
      },
      "source": [
        "# Predict y-values\n",
        "preds_MLP_4 = mlp_class_4.predict(x_test)"
      ],
      "execution_count": null,
      "outputs": []
    },
    {
      "cell_type": "markdown",
      "metadata": {
        "id": "YsVoLkuIH0P2"
      },
      "source": [
        "**Results:**"
      ]
    },
    {
      "cell_type": "code",
      "metadata": {
        "colab": {
          "base_uri": "https://localhost:8080/",
          "height": 142
        },
        "id": "KS5MbSXIH0P2",
        "outputId": "6a9d4996-b12f-4eb7-94be-726610e04ed9"
      },
      "source": [
        "# Confusion Matrix\n",
        "confusion_matrix_MLP = pd.crosstab(y_test, preds_MLP_4, rownames=['Actual'], colnames=['Predicted'])\n",
        "confusion_matrix_MLP"
      ],
      "execution_count": null,
      "outputs": [
        {
          "output_type": "execute_result",
          "data": {
            "text/html": [
              "<div>\n",
              "<style scoped>\n",
              "    .dataframe tbody tr th:only-of-type {\n",
              "        vertical-align: middle;\n",
              "    }\n",
              "\n",
              "    .dataframe tbody tr th {\n",
              "        vertical-align: top;\n",
              "    }\n",
              "\n",
              "    .dataframe thead th {\n",
              "        text-align: right;\n",
              "    }\n",
              "</style>\n",
              "<table border=\"1\" class=\"dataframe\">\n",
              "  <thead>\n",
              "    <tr style=\"text-align: right;\">\n",
              "      <th>Predicted</th>\n",
              "      <th>0</th>\n",
              "      <th>1</th>\n",
              "    </tr>\n",
              "    <tr>\n",
              "      <th>Actual</th>\n",
              "      <th></th>\n",
              "      <th></th>\n",
              "    </tr>\n",
              "  </thead>\n",
              "  <tbody>\n",
              "    <tr>\n",
              "      <th>0</th>\n",
              "      <td>74791</td>\n",
              "      <td>55</td>\n",
              "    </tr>\n",
              "    <tr>\n",
              "      <th>1</th>\n",
              "      <td>29</td>\n",
              "      <td>108</td>\n",
              "    </tr>\n",
              "  </tbody>\n",
              "</table>\n",
              "</div>"
            ],
            "text/plain": [
              "Predicted      0    1\n",
              "Actual               \n",
              "0          74791   55\n",
              "1             29  108"
            ]
          },
          "metadata": {
            "tags": []
          },
          "execution_count": 23
        }
      ]
    },
    {
      "cell_type": "code",
      "metadata": {
        "colab": {
          "base_uri": "https://localhost:8080/"
        },
        "id": "TRm7YttFH0P3",
        "outputId": "8e4a29b8-5f1a-4d77-fc9c-d2af6cd22708"
      },
      "source": [
        "# Classification Report\n",
        "print(classification_report(y_test, preds_MLP_4))"
      ],
      "execution_count": null,
      "outputs": [
        {
          "output_type": "stream",
          "text": [
            "              precision    recall  f1-score   support\n",
            "\n",
            "           0       1.00      1.00      1.00     74846\n",
            "           1       0.66      0.79      0.72       137\n",
            "\n",
            "    accuracy                           1.00     74983\n",
            "   macro avg       0.83      0.89      0.86     74983\n",
            "weighted avg       1.00      1.00      1.00     74983\n",
            "\n"
          ],
          "name": "stdout"
        }
      ]
    },
    {
      "cell_type": "code",
      "metadata": {
        "colab": {
          "base_uri": "https://localhost:8080/"
        },
        "id": "Fgqn_-UUH0P3",
        "outputId": "877e82eb-0b79-4eda-ef9e-bc02eed8f1d2"
      },
      "source": [
        "#f1 score\n",
        "print('f1 score = ',f1_score(y_test,preds_MLP_4))"
      ],
      "execution_count": null,
      "outputs": [
        {
          "output_type": "stream",
          "text": [
            "f1 score =  0.7199999999999999\n"
          ],
          "name": "stdout"
        }
      ]
    },
    {
      "cell_type": "code",
      "metadata": {
        "colab": {
          "base_uri": "https://localhost:8080/"
        },
        "id": "3qfp2-NLH0P3",
        "outputId": "74fe0a8b-f662-4915-c9e1-3506ed7c720c"
      },
      "source": [
        "# Accuracy\n",
        "accuracy_MLP = accuracy_score(y_test, preds_MLP_4)\n",
        "print('Accuracy_RF =', accuracy_MLP)"
      ],
      "execution_count": null,
      "outputs": [
        {
          "output_type": "stream",
          "text": [
            "Accuracy_RF = 0.9988797460757772\n"
          ],
          "name": "stdout"
        }
      ]
    },
    {
      "cell_type": "markdown",
      "metadata": {
        "id": "1J7SHtyjmPnQ"
      },
      "source": [
        "#**MODEL 5: MLP model using SMOTE & GridSearch w/ Cross-Validation**#"
      ]
    },
    {
      "cell_type": "code",
      "metadata": {
        "id": "h2N4OqjWmPng"
      },
      "source": [
        "# Using GridSearch to find the best n_neighbor value. \n",
        "param_grid_MLP_2 = {\n",
        "    'hidden_layer_sizes': [(80,80,80)],\n",
        "    'activation': ['logistic'],\n",
        "    'alpha': [0.0000001, 0.000001],\n",
        "    'max_iter': [300, 350],\n",
        "}\n",
        "# Create model\n",
        "mlp_class_5 = MLPClassifier()\n",
        "\n",
        "# Instantiate the grid search model\n",
        "grid_search_MLP_5 = GridSearchCV(estimator=mlp_class_5,param_grid=param_grid_MLP_2,cv=5)"
      ],
      "execution_count": null,
      "outputs": []
    },
    {
      "cell_type": "code",
      "metadata": {
        "id": "PBQlt1a3mPnh",
        "colab": {
          "base_uri": "https://localhost:8080/"
        },
        "outputId": "ea54db99-10ed-4fbc-ca50-4e7fe4ec51c6"
      },
      "source": [
        "# Fit the grid search to the data\n",
        "grid_search_MLP_5.fit(x_train, y_train)\n",
        "grid_search_MLP_5.best_params_"
      ],
      "execution_count": null,
      "outputs": [
        {
          "output_type": "execute_result",
          "data": {
            "text/plain": [
              "{'activation': 'logistic',\n",
              " 'alpha': 1e-07,\n",
              " 'hidden_layer_sizes': (80, 80, 80),\n",
              " 'max_iter': 300}"
            ]
          },
          "metadata": {
            "tags": []
          },
          "execution_count": 28
        }
      ]
    },
    {
      "cell_type": "code",
      "metadata": {
        "id": "cl7zvJ27mPnh",
        "colab": {
          "base_uri": "https://localhost:8080/"
        },
        "outputId": "81a53312-36e4-4e56-d7c0-2b0326a4ec76"
      },
      "source": [
        "best_grid_MLP_5 = grid_search_MLP_5.best_estimator_\n",
        "best_grid_MLP_5"
      ],
      "execution_count": null,
      "outputs": [
        {
          "output_type": "execute_result",
          "data": {
            "text/plain": [
              "MLPClassifier(activation='logistic', alpha=1e-07, batch_size='auto', beta_1=0.9,\n",
              "              beta_2=0.999, early_stopping=False, epsilon=1e-08,\n",
              "              hidden_layer_sizes=(80, 80, 80), learning_rate='constant',\n",
              "              learning_rate_init=0.001, max_fun=15000, max_iter=300,\n",
              "              momentum=0.9, n_iter_no_change=10, nesterovs_momentum=True,\n",
              "              power_t=0.5, random_state=None, shuffle=True, solver='adam',\n",
              "              tol=0.0001, validation_fraction=0.1, verbose=False,\n",
              "              warm_start=False)"
            ]
          },
          "metadata": {
            "tags": []
          },
          "execution_count": 29
        }
      ]
    },
    {
      "cell_type": "code",
      "metadata": {
        "id": "e2wlFL-4mPni"
      },
      "source": [
        "# Predict y-values\n",
        "preds_MLP_5Grid = best_grid_MLP_5.predict(x_test)"
      ],
      "execution_count": null,
      "outputs": []
    },
    {
      "cell_type": "markdown",
      "metadata": {
        "id": "ZCi8__iosj_7"
      },
      "source": [
        "**Results:**"
      ]
    },
    {
      "cell_type": "code",
      "metadata": {
        "id": "UoTnla-lmPni",
        "colab": {
          "base_uri": "https://localhost:8080/",
          "height": 142
        },
        "outputId": "1c18c88e-7a22-448d-cde2-3b5fc6bbd6ba"
      },
      "source": [
        "# Confusion Matrix\n",
        "confusion_matrix_MLP = pd.crosstab(y_test, preds_MLP_5Grid, rownames=['Actual'], colnames=['Predicted'])\n",
        "confusion_matrix_MLP"
      ],
      "execution_count": null,
      "outputs": [
        {
          "output_type": "execute_result",
          "data": {
            "text/html": [
              "<div>\n",
              "<style scoped>\n",
              "    .dataframe tbody tr th:only-of-type {\n",
              "        vertical-align: middle;\n",
              "    }\n",
              "\n",
              "    .dataframe tbody tr th {\n",
              "        vertical-align: top;\n",
              "    }\n",
              "\n",
              "    .dataframe thead th {\n",
              "        text-align: right;\n",
              "    }\n",
              "</style>\n",
              "<table border=\"1\" class=\"dataframe\">\n",
              "  <thead>\n",
              "    <tr style=\"text-align: right;\">\n",
              "      <th>Predicted</th>\n",
              "      <th>0</th>\n",
              "      <th>1</th>\n",
              "    </tr>\n",
              "    <tr>\n",
              "      <th>Actual</th>\n",
              "      <th></th>\n",
              "      <th></th>\n",
              "    </tr>\n",
              "  </thead>\n",
              "  <tbody>\n",
              "    <tr>\n",
              "      <th>0</th>\n",
              "      <td>74780</td>\n",
              "      <td>66</td>\n",
              "    </tr>\n",
              "    <tr>\n",
              "      <th>1</th>\n",
              "      <td>27</td>\n",
              "      <td>110</td>\n",
              "    </tr>\n",
              "  </tbody>\n",
              "</table>\n",
              "</div>"
            ],
            "text/plain": [
              "Predicted      0    1\n",
              "Actual               \n",
              "0          74780   66\n",
              "1             27  110"
            ]
          },
          "metadata": {
            "tags": []
          },
          "execution_count": 31
        }
      ]
    },
    {
      "cell_type": "code",
      "metadata": {
        "id": "bm1o8GBrmPni",
        "colab": {
          "base_uri": "https://localhost:8080/"
        },
        "outputId": "aa1df137-3cf4-44dd-8277-bc649e87a987"
      },
      "source": [
        "# f1 score\n",
        "print('f1 score= ', f1_score(y_test, preds_MLP_5Grid))"
      ],
      "execution_count": null,
      "outputs": [
        {
          "output_type": "stream",
          "text": [
            "f1 score=  0.7028753993610223\n"
          ],
          "name": "stdout"
        }
      ]
    },
    {
      "cell_type": "code",
      "metadata": {
        "id": "-E96eNOwmPnj",
        "colab": {
          "base_uri": "https://localhost:8080/"
        },
        "outputId": "98a6f358-bb61-4cba-b32a-164656be8102"
      },
      "source": [
        "# Classification Report\n",
        "print(classification_report(y_test, preds_MLP_5Grid))"
      ],
      "execution_count": null,
      "outputs": [
        {
          "output_type": "stream",
          "text": [
            "              precision    recall  f1-score   support\n",
            "\n",
            "           0       1.00      1.00      1.00     74846\n",
            "           1       0.62      0.80      0.70       137\n",
            "\n",
            "    accuracy                           1.00     74983\n",
            "   macro avg       0.81      0.90      0.85     74983\n",
            "weighted avg       1.00      1.00      1.00     74983\n",
            "\n"
          ],
          "name": "stdout"
        }
      ]
    },
    {
      "cell_type": "code",
      "metadata": {
        "id": "7fMePqkamPnj",
        "colab": {
          "base_uri": "https://localhost:8080/"
        },
        "outputId": "ed34cda6-4cf7-448a-b7f1-4d2c8634f250"
      },
      "source": [
        "# Accuracy\n",
        "accuracy_MLP = accuracy_score(y_test, preds_MLP_5Grid)\n",
        "print('Accuracy_RF =', accuracy_MLP)"
      ],
      "execution_count": null,
      "outputs": [
        {
          "output_type": "stream",
          "text": [
            "Accuracy_RF = 0.9987597188696105\n"
          ],
          "name": "stdout"
        }
      ]
    },
    {
      "cell_type": "markdown",
      "metadata": {
        "id": "aNCoUa2A6Jvm"
      },
      "source": [
        "#**MODEL 6: RANDOM FOREST CLASSIFIER**#"
      ]
    },
    {
      "cell_type": "code",
      "metadata": {
        "id": "wEBOiuu-67Tq",
        "colab": {
          "base_uri": "https://localhost:8080/"
        },
        "outputId": "1f1c1237-a7de-488b-aec0-fefb2f59ca4e"
      },
      "source": [
        "# Split and train the data using stratify\n",
        "x_train, x_test, y_train, y_test = train_test_split(X, Y, test_size=0.30, stratify=Y, random_state=1)\n",
        "\n",
        "# How is data split. \n",
        "Counter(y_train)"
      ],
      "execution_count": 21,
      "outputs": [
        {
          "output_type": "execute_result",
          "data": {
            "text/plain": [
              "Counter({0: 174639, 1: 321})"
            ]
          },
          "metadata": {
            "tags": []
          },
          "execution_count": 21
        }
      ]
    },
    {
      "cell_type": "code",
      "metadata": {
        "id": "3HDpIBHZLuAJ"
      },
      "source": [
        "# Important hyperparameter selection:\n",
        "# Create the parameter grid based on the results of random search \n",
        "param_grid_rf = {\n",
        "    'bootstrap': [True],   # GridSearch results from deliverable 2\n",
        "    'n_estimators': [20],  # GridSearch results from deliverable 2\n",
        "    'max_features': [15],  # GridSearch results from deliverable 2\n",
        "    }\n",
        "# Create a based model\n",
        "rf = RandomForestClassifier()\n",
        "# Instantiate the grid search model\n",
        "grid_search_rf = GridSearchCV(estimator = rf, param_grid = param_grid_rf, cv = 5)"
      ],
      "execution_count": 22,
      "outputs": []
    },
    {
      "cell_type": "code",
      "metadata": {
        "colab": {
          "base_uri": "https://localhost:8080/"
        },
        "id": "fGH_cfRS6Jvp",
        "outputId": "fa2024dd-7b65-4b9f-e8cb-be976942e201"
      },
      "source": [
        "# Fit the grid search to the data\n",
        "grid_search_rf.fit(x_train, y_train)\n",
        "grid_search_rf.best_params_"
      ],
      "execution_count": 23,
      "outputs": [
        {
          "output_type": "execute_result",
          "data": {
            "text/plain": [
              "{'bootstrap': True, 'max_features': 15, 'n_estimators': 20}"
            ]
          },
          "metadata": {
            "tags": []
          },
          "execution_count": 23
        }
      ]
    },
    {
      "cell_type": "code",
      "metadata": {
        "colab": {
          "base_uri": "https://localhost:8080/"
        },
        "id": "Vc2GqVVk6Jvq",
        "outputId": "a5fcb40e-f4b4-4cd2-92ec-f3acd595f8da"
      },
      "source": [
        "best_grid_rf = grid_search_rf.best_estimator_\n",
        "best_grid_rf"
      ],
      "execution_count": 24,
      "outputs": [
        {
          "output_type": "execute_result",
          "data": {
            "text/plain": [
              "RandomForestClassifier(bootstrap=True, ccp_alpha=0.0, class_weight=None,\n",
              "                       criterion='gini', max_depth=None, max_features=15,\n",
              "                       max_leaf_nodes=None, max_samples=None,\n",
              "                       min_impurity_decrease=0.0, min_impurity_split=None,\n",
              "                       min_samples_leaf=1, min_samples_split=2,\n",
              "                       min_weight_fraction_leaf=0.0, n_estimators=20,\n",
              "                       n_jobs=None, oob_score=False, random_state=None,\n",
              "                       verbose=0, warm_start=False)"
            ]
          },
          "metadata": {
            "tags": []
          },
          "execution_count": 24
        }
      ]
    },
    {
      "cell_type": "code",
      "metadata": {
        "id": "QKNNtiTJ6Jvq"
      },
      "source": [
        "# Predict y-values\n",
        "preds_grid_rf = best_grid_rf.predict(x_test)"
      ],
      "execution_count": 61,
      "outputs": []
    },
    {
      "cell_type": "code",
      "metadata": {
        "colab": {
          "base_uri": "https://localhost:8080/",
          "height": 142
        },
        "id": "qN_thTB36Jvr",
        "outputId": "fae68ef9-a16c-4d78-e12a-1380f55e5498"
      },
      "source": [
        "# Confusion Matrix\n",
        "df_confusion = pd.crosstab(y_test, preds_grid_rf, rownames=['Actual'], colnames=['Predicted'])\n",
        "df_confusion"
      ],
      "execution_count": 62,
      "outputs": [
        {
          "output_type": "execute_result",
          "data": {
            "text/html": [
              "<div>\n",
              "<style scoped>\n",
              "    .dataframe tbody tr th:only-of-type {\n",
              "        vertical-align: middle;\n",
              "    }\n",
              "\n",
              "    .dataframe tbody tr th {\n",
              "        vertical-align: top;\n",
              "    }\n",
              "\n",
              "    .dataframe thead th {\n",
              "        text-align: right;\n",
              "    }\n",
              "</style>\n",
              "<table border=\"1\" class=\"dataframe\">\n",
              "  <thead>\n",
              "    <tr style=\"text-align: right;\">\n",
              "      <th>Predicted</th>\n",
              "      <th>0</th>\n",
              "      <th>1</th>\n",
              "    </tr>\n",
              "    <tr>\n",
              "      <th>Actual</th>\n",
              "      <th></th>\n",
              "      <th></th>\n",
              "    </tr>\n",
              "  </thead>\n",
              "  <tbody>\n",
              "    <tr>\n",
              "      <th>0</th>\n",
              "      <td>74839</td>\n",
              "      <td>7</td>\n",
              "    </tr>\n",
              "    <tr>\n",
              "      <th>1</th>\n",
              "      <td>28</td>\n",
              "      <td>109</td>\n",
              "    </tr>\n",
              "  </tbody>\n",
              "</table>\n",
              "</div>"
            ],
            "text/plain": [
              "Predicted      0    1\n",
              "Actual               \n",
              "0          74839    7\n",
              "1             28  109"
            ]
          },
          "metadata": {
            "tags": []
          },
          "execution_count": 62
        }
      ]
    },
    {
      "cell_type": "code",
      "metadata": {
        "colab": {
          "base_uri": "https://localhost:8080/"
        },
        "id": "4mVGFKMt6Jvr",
        "outputId": "9deae125-e600-408c-aca0-f9407730a388"
      },
      "source": [
        "# f1 score\n",
        "print('f1 score= ', f1_score(y_test, preds_grid_rf))"
      ],
      "execution_count": 63,
      "outputs": [
        {
          "output_type": "stream",
          "text": [
            "f1 score=  0.8616600790513834\n"
          ],
          "name": "stdout"
        }
      ]
    },
    {
      "cell_type": "code",
      "metadata": {
        "colab": {
          "base_uri": "https://localhost:8080/"
        },
        "id": "KXyii2dJ6Jvr",
        "outputId": "e2aa8f57-220b-4b9a-f691-5ed0c7fdaf80"
      },
      "source": [
        "# Classification Report\n",
        "print(classification_report(y_test, preds_grid_rf))"
      ],
      "execution_count": 64,
      "outputs": [
        {
          "output_type": "stream",
          "text": [
            "              precision    recall  f1-score   support\n",
            "\n",
            "           0       1.00      1.00      1.00     74846\n",
            "           1       0.94      0.80      0.86       137\n",
            "\n",
            "    accuracy                           1.00     74983\n",
            "   macro avg       0.97      0.90      0.93     74983\n",
            "weighted avg       1.00      1.00      1.00     74983\n",
            "\n"
          ],
          "name": "stdout"
        }
      ]
    },
    {
      "cell_type": "code",
      "metadata": {
        "colab": {
          "base_uri": "https://localhost:8080/"
        },
        "id": "ZNKIjeRI6Jvs",
        "outputId": "ef13afa0-fe89-433b-86a5-ebc972e7d59c"
      },
      "source": [
        "# Accuracy\n",
        "accuracy_RF = accuracy_score(y_test, preds_grid_rf)\n",
        "print('Accuracy_RF =', accuracy_RF)"
      ],
      "execution_count": 65,
      "outputs": [
        {
          "output_type": "stream",
          "text": [
            "Accuracy_RF = 0.9995332275315738\n"
          ],
          "name": "stdout"
        }
      ]
    },
    {
      "cell_type": "code",
      "metadata": {
        "colab": {
          "base_uri": "https://localhost:8080/"
        },
        "id": "7pTrhqBU6Jvs",
        "outputId": "2f2112aa-a7ec-4916-f1f0-da0fcae6ba9b"
      },
      "source": [
        "precision = precision_score(y_test, preds_grid_rf)\n",
        "print('Precision: ', precision)\n",
        "recall = recall_score(y_test, preds_grid_rf)\n",
        "print('recall: ', recall)"
      ],
      "execution_count": 66,
      "outputs": [
        {
          "output_type": "stream",
          "text": [
            "Precision:  0.9396551724137931\n",
            "recall:  0.7956204379562044\n"
          ],
          "name": "stdout"
        }
      ]
    },
    {
      "cell_type": "code",
      "metadata": {
        "colab": {
          "base_uri": "https://localhost:8080/",
          "height": 254
        },
        "id": "vYmU2YY1mSqu",
        "outputId": "56dca6ed-1814-4890-8fa4-95378cd69e39"
      },
      "source": [
        "def plot_confusion_matrix(confusion_matrix_MLP, title='Confusion matrix', cmap=plt.cm.gray_r):\n",
        "    plt.matshow(confusion_matrix_MLP, cmap=cmap) # imshow\n",
        "    #plt.title(title)\n",
        "    plt.colorbar()\n",
        "    tick_marks = np.arange(len(confusion_matrix_MLP.columns))\n",
        "    plt.xticks(tick_marks, confusion_matrix_MLP.columns, rotation=45)\n",
        "    plt.yticks(tick_marks, confusion_matrix_MLP.index)\n",
        "    #plt.tight_layout()\n",
        "    plt.ylabel(confusion_matrix_MLP.index.name)\n",
        "    plt.xlabel(confusion_matrix_MLP.columns.name)\n",
        "\n",
        "plot_confusion_matrix(confusion_matrix_MLP)\n",
        "plt.savefig(\"confusion matrix.png\")"
      ],
      "execution_count": 51,
      "outputs": [
        {
          "output_type": "display_data",
          "data": {
            "image/png": "[encoded data removed]",
            "text/plain": [
              "<Figure size 288x288 with 2 Axes>"
            ]
          },
          "metadata": {
            "tags": [],
            "needs_background": "light"
          }
        }
      ]
    },
    {
      "cell_type": "code",
      "metadata": {
        "colab": {
          "base_uri": "https://localhost:8080/",
          "height": 295
        },
        "id": "ujw4DrkHmcoA",
        "outputId": "1d97f58d-8926-4f52-9359-6ab34a129ef9"
      },
      "source": [
        "# Precision Recall Curve\n",
        "preds_grid_MLP_prob = best_grid_rf.predict_proba(x_test)[:,1]\n",
        "precision, recall, thresholds = precision_recall_curve(y_test, preds_grid_MLP_prob)\n",
        "\n",
        "plt.plot(precision, recall)\n",
        "plt.xlabel('Recall')\n",
        "plt.ylabel('Precision')\n",
        "plt.title('Precision Recall Curve')\n",
        "plt.savefig(\"precision_recall_curve.png\")"
      ],
      "execution_count": 67,
      "outputs": [
        {
          "output_type": "display_data",
          "data": {
            "image/png": "[encoded data removed]",
            "text/plain": [
              "<Figure size 432x288 with 1 Axes>"
            ]
          },
          "metadata": {
            "tags": [],
            "needs_background": "light"
          }
        }
      ]
    },
    {
      "cell_type": "code",
      "metadata": {
        "colab": {
          "base_uri": "https://localhost:8080/"
        },
        "id": "wPyIybo5nAZF",
        "outputId": "035f5634-7fee-46d6-eabb-651c98c4c1a9"
      },
      "source": [
        "print('recall: ', recall)\n",
        "print('Precision: ', precision)"
      ],
      "execution_count": 59,
      "outputs": [
        {
          "output_type": "stream",
          "text": [
            "recall:  [1.         0.87591241 0.86861314 0.8540146  0.8540146  0.8540146\n",
            " 0.84671533 0.84671533 0.83941606 0.81751825 0.81021898 0.79562044\n",
            " 0.78832117 0.75912409 0.74452555 0.72992701 0.71532847 0.69343066\n",
            " 0.6350365  0.51094891 0.3649635  0.        ]\n",
            "Precision:  [0.00182708 0.22304833 0.53603604 0.68421053 0.76470588 0.8125\n",
            " 0.85925926 0.87218045 0.88461538 0.90322581 0.91735537 0.93965517\n",
            " 0.95575221 0.96296296 0.97142857 0.97087379 0.97029703 0.96938776\n",
            " 0.97752809 0.98591549 1.         1.        ]\n"
          ],
          "name": "stdout"
        }
      ]
    },
    {
      "cell_type": "code",
      "metadata": {
        "colab": {
          "base_uri": "https://localhost:8080/"
        },
        "id": "P-i90hHGnJjA",
        "outputId": "7dbc2855-486c-4f30-b167-f663753e1fe9"
      },
      "source": [
        "# AUC score \n",
        "print(\"AUC score is: \", roc_auc_score(y_test, preds_grid_rf))"
      ],
      "execution_count": 58,
      "outputs": [
        {
          "output_type": "stream",
          "text": [
            "AUC score is:  0.8977634562920535\n"
          ],
          "name": "stdout"
        }
      ]
    },
    {
      "cell_type": "code",
      "metadata": {
        "colab": {
          "base_uri": "https://localhost:8080/",
          "height": 295
        },
        "id": "XerrWwz_ntAZ",
        "outputId": "fb330bdb-8910-41ac-8541-e795d843b18e"
      },
      "source": [
        "# Receiving operating characteristics: ROC_score & ROC_curve\n",
        "logit_roc_auc = roc_auc_score(y_test, best_grid_rf.predict(x_test))\n",
        "fpr, tpr, thresholds = roc_curve(y_test, best_grid_rf.predict_proba(x_test)[:,1])\n",
        "plt.figure()\n",
        "plt.plot(fpr, tpr, label='RandomForestClassifier (area = %0.2f)' % logit_roc_auc)\n",
        "plt.plot([0, 1], [0, 1],'r--')\n",
        "plt.xlim([0.0, 1.0])\n",
        "plt.ylim([0.0, 1.05])\n",
        "plt.xlabel('False Positive Rate')\n",
        "plt.ylabel('True Positive Rate')\n",
        "plt.title('Receiver operating characteristic')\n",
        "plt.legend(loc=\"lower right\")\n",
        "plt.savefig('Log_ROC')\n",
        "plt.show()"
      ],
      "execution_count": 68,
      "outputs": [
        {
          "output_type": "display_data",
          "data": {
            "image/png": "[encoded data removed]",
            "text/plain": [
              "<Figure size 432x288 with 1 Axes>"
            ]
          },
          "metadata": {
            "tags": [],
            "needs_background": "light"
          }
        }
      ]
    },
    {
      "cell_type": "code",
      "metadata": {
        "colab": {
          "base_uri": "https://localhost:8080/"
        },
        "id": "FrtgWJzXn3Az",
        "outputId": "21b3882a-ddc3-45a9-9392-32c2b53f29ca"
      },
      "source": [
        "#define a function that accepts a threshold and prints sensitivity and specificity\n",
        "def evaluate_threshold(threshold):\n",
        "  print ('Sensitivity:', tpr[thresholds > threshold][-1])\n",
        "  print ('Specificity:', 1-fpr[thresholds > threshold][-1])\n",
        "\n",
        "evaluate_threshold(0.5)"
      ],
      "execution_count": 71,
      "outputs": [
        {
          "output_type": "stream",
          "text": [
            "Sensitivity: 0.7956204379562044\n",
            "Specificity: 0.9999064746279026\n"
          ],
          "name": "stdout"
        }
      ]
    },
    {
      "cell_type": "markdown",
      "metadata": {
        "id": "LyuRIvE-8CvT"
      },
      "source": [
        "#**TEST DATA: Uploading/reading the test data**#"
      ]
    },
    {
      "cell_type": "code",
      "metadata": {
        "id": "srQ2Ft5N-Ex4",
        "colab": {
          "resources": {
            "http://localhost:8080/nbextensions/google.colab/files.js": {
              "data": "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",
              "ok": true,
              "headers": [
                [
                  "content-type",
                  "application/javascript"
                ]
              ],
              "status": 200,
              "status_text": ""
            }
          },
          "base_uri": "https://localhost:8080/",
          "height": 72
        },
        "outputId": "5074c411-f10a-44f3-a6af-9f7341866dbd"
      },
      "source": [
        "#  Upload, download & read files \n",
        "uploaded = files.upload()"
      ],
      "execution_count": 31,
      "outputs": [
        {
          "output_type": "display_data",
          "data": {
            "text/html": [
              "\n",
              "     <input type=\"file\" id=\"files-6c1dddb7-e807-4f23-8d4a-4d8f53864dab\" name=\"files[]\" multiple disabled\n",
              "        style=\"border:none\" />\n",
              "     <output id=\"result-6c1dddb7-e807-4f23-8d4a-4d8f53864dab\">\n",
              "      Upload widget is only available when the cell has been executed in the\n",
              "      current browser session. Please rerun this cell to enable.\n",
              "      </output>\n",
              "      <script src=\"/nbextensions/google.colab/files.js\"></script> "
            ],
            "text/plain": [
              "<IPython.core.display.HTML object>"
            ]
          },
          "metadata": {
            "tags": []
          }
        },
        {
          "output_type": "stream",
          "text": [
            "Saving imbalanced_testing_data_1_predictor_values.csv to imbalanced_testing_data_1_predictor_values.csv\n"
          ],
          "name": "stdout"
        }
      ]
    },
    {
      "cell_type": "code",
      "metadata": {
        "id": "kSWX_Z7J-GHD",
        "colab": {
          "base_uri": "https://localhost:8080/",
          "height": 224
        },
        "outputId": "11d58cf1-ef4e-43df-ea3d-28aa345e642d"
      },
      "source": [
        "df_Test = pd.read_csv(io.StringIO(uploaded['imbalanced_testing_data_1_predictor_values.csv'].decode('utf-8')))\n",
        "df_Test.head()"
      ],
      "execution_count": 33,
      "outputs": [
        {
          "output_type": "execute_result",
          "data": {
            "text/html": [
              "<div>\n",
              "<style scoped>\n",
              "    .dataframe tbody tr th:only-of-type {\n",
              "        vertical-align: middle;\n",
              "    }\n",
              "\n",
              "    .dataframe tbody tr th {\n",
              "        vertical-align: top;\n",
              "    }\n",
              "\n",
              "    .dataframe thead th {\n",
              "        text-align: right;\n",
              "    }\n",
              "</style>\n",
              "<table border=\"1\" class=\"dataframe\">\n",
              "  <thead>\n",
              "    <tr style=\"text-align: right;\">\n",
              "      <th></th>\n",
              "      <th>Transaction</th>\n",
              "      <th>X1</th>\n",
              "      <th>X2</th>\n",
              "      <th>X3</th>\n",
              "      <th>X4</th>\n",
              "      <th>X5</th>\n",
              "      <th>X6</th>\n",
              "      <th>X7</th>\n",
              "      <th>X8</th>\n",
              "      <th>X9</th>\n",
              "      <th>X10</th>\n",
              "      <th>X11</th>\n",
              "      <th>X12</th>\n",
              "      <th>X13</th>\n",
              "      <th>X14</th>\n",
              "      <th>X15</th>\n",
              "      <th>X16</th>\n",
              "      <th>X17</th>\n",
              "      <th>X18</th>\n",
              "      <th>X19</th>\n",
              "      <th>X20</th>\n",
              "      <th>X21</th>\n",
              "      <th>X22</th>\n",
              "      <th>X23</th>\n",
              "      <th>X24</th>\n",
              "      <th>X25</th>\n",
              "      <th>X26</th>\n",
              "      <th>X27</th>\n",
              "      <th>X28</th>\n",
              "      <th>X29</th>\n",
              "      <th>X30</th>\n",
              "    </tr>\n",
              "  </thead>\n",
              "  <tbody>\n",
              "    <tr>\n",
              "      <th>0</th>\n",
              "      <td>T263275</td>\n",
              "      <td>-0.644278</td>\n",
              "      <td>5.002352</td>\n",
              "      <td>-8.252739</td>\n",
              "      <td>7.756915</td>\n",
              "      <td>-0.216267</td>\n",
              "      <td>-2.751496</td>\n",
              "      <td>-3.358857</td>\n",
              "      <td>1.406268</td>\n",
              "      <td>-4.403852</td>\n",
              "      <td>-5.945634</td>\n",
              "      <td>4.475905</td>\n",
              "      <td>-7.607261</td>\n",
              "      <td>-0.160723</td>\n",
              "      <td>-13.010749</td>\n",
              "      <td>1.094382</td>\n",
              "      <td>-2.864039</td>\n",
              "      <td>-2.871342</td>\n",
              "      <td>-0.180614</td>\n",
              "      <td>0.647709</td>\n",
              "      <td>0.816558</td>\n",
              "      <td>0.587728</td>\n",
              "      <td>-0.605759</td>\n",
              "      <td>0.033746</td>\n",
              "      <td>-0.756170</td>\n",
              "      <td>-0.008172</td>\n",
              "      <td>0.532772</td>\n",
              "      <td>0.663970</td>\n",
              "      <td>0.192067</td>\n",
              "      <td>0.77</td>\n",
              "      <td>160870</td>\n",
              "    </tr>\n",
              "    <tr>\n",
              "      <th>1</th>\n",
              "      <td>T250007</td>\n",
              "      <td>2.091651</td>\n",
              "      <td>-0.169025</td>\n",
              "      <td>-1.668564</td>\n",
              "      <td>-0.058837</td>\n",
              "      <td>0.684833</td>\n",
              "      <td>0.148902</td>\n",
              "      <td>0.003661</td>\n",
              "      <td>-0.018512</td>\n",
              "      <td>0.358000</td>\n",
              "      <td>0.235923</td>\n",
              "      <td>-0.042033</td>\n",
              "      <td>0.674443</td>\n",
              "      <td>0.086213</td>\n",
              "      <td>0.414888</td>\n",
              "      <td>-0.524910</td>\n",
              "      <td>0.439062</td>\n",
              "      <td>-0.948905</td>\n",
              "      <td>0.028002</td>\n",
              "      <td>0.852307</td>\n",
              "      <td>-0.139733</td>\n",
              "      <td>-0.311108</td>\n",
              "      <td>-0.854486</td>\n",
              "      <td>0.225296</td>\n",
              "      <td>-0.354132</td>\n",
              "      <td>-0.171976</td>\n",
              "      <td>0.210693</td>\n",
              "      <td>-0.082989</td>\n",
              "      <td>-0.072972</td>\n",
              "      <td>8.99</td>\n",
              "      <td>154679</td>\n",
              "    </tr>\n",
              "    <tr>\n",
              "      <th>2</th>\n",
              "      <td>T255404</td>\n",
              "      <td>1.170756</td>\n",
              "      <td>2.501038</td>\n",
              "      <td>-4.986159</td>\n",
              "      <td>5.374160</td>\n",
              "      <td>0.997798</td>\n",
              "      <td>-1.259004</td>\n",
              "      <td>-1.237689</td>\n",
              "      <td>0.358426</td>\n",
              "      <td>-2.612489</td>\n",
              "      <td>-3.064730</td>\n",
              "      <td>3.480602</td>\n",
              "      <td>-3.735153</td>\n",
              "      <td>-0.594778</td>\n",
              "      <td>-8.229952</td>\n",
              "      <td>-1.476094</td>\n",
              "      <td>-0.408471</td>\n",
              "      <td>-1.481283</td>\n",
              "      <td>0.347627</td>\n",
              "      <td>-1.164414</td>\n",
              "      <td>0.227618</td>\n",
              "      <td>0.123145</td>\n",
              "      <td>-0.713201</td>\n",
              "      <td>-0.080868</td>\n",
              "      <td>-0.964310</td>\n",
              "      <td>0.338568</td>\n",
              "      <td>0.068630</td>\n",
              "      <td>0.481588</td>\n",
              "      <td>0.268226</td>\n",
              "      <td>4.97</td>\n",
              "      <td>157207</td>\n",
              "    </tr>\n",
              "    <tr>\n",
              "      <th>3</th>\n",
              "      <td>T250006</td>\n",
              "      <td>1.801664</td>\n",
              "      <td>-0.894195</td>\n",
              "      <td>-0.156837</td>\n",
              "      <td>0.611137</td>\n",
              "      <td>-1.047178</td>\n",
              "      <td>-0.129124</td>\n",
              "      <td>-0.733517</td>\n",
              "      <td>0.014156</td>\n",
              "      <td>-0.625758</td>\n",
              "      <td>1.090806</td>\n",
              "      <td>0.916235</td>\n",
              "      <td>1.256150</td>\n",
              "      <td>1.206246</td>\n",
              "      <td>-0.045645</td>\n",
              "      <td>-0.126912</td>\n",
              "      <td>-0.898035</td>\n",
              "      <td>-0.735040</td>\n",
              "      <td>1.615621</td>\n",
              "      <td>-1.195031</td>\n",
              "      <td>-0.381646</td>\n",
              "      <td>-0.341791</td>\n",
              "      <td>-0.653244</td>\n",
              "      <td>0.345701</td>\n",
              "      <td>-0.070720</td>\n",
              "      <td>-0.568136</td>\n",
              "      <td>-0.956699</td>\n",
              "      <td>0.067724</td>\n",
              "      <td>-0.007922</td>\n",
              "      <td>113.00</td>\n",
              "      <td>154679</td>\n",
              "    </tr>\n",
              "    <tr>\n",
              "      <th>4</th>\n",
              "      <td>T263081</td>\n",
              "      <td>2.132386</td>\n",
              "      <td>0.705608</td>\n",
              "      <td>-3.530759</td>\n",
              "      <td>0.514779</td>\n",
              "      <td>1.527175</td>\n",
              "      <td>-1.716268</td>\n",
              "      <td>1.132791</td>\n",
              "      <td>-0.574214</td>\n",
              "      <td>0.128904</td>\n",
              "      <td>-1.000805</td>\n",
              "      <td>-0.191191</td>\n",
              "      <td>-0.323794</td>\n",
              "      <td>-0.572456</td>\n",
              "      <td>-1.422064</td>\n",
              "      <td>0.314684</td>\n",
              "      <td>-0.387162</td>\n",
              "      <td>1.734742</td>\n",
              "      <td>0.610976</td>\n",
              "      <td>-0.221267</td>\n",
              "      <td>-0.211167</td>\n",
              "      <td>0.163739</td>\n",
              "      <td>0.703910</td>\n",
              "      <td>-0.245076</td>\n",
              "      <td>0.460049</td>\n",
              "      <td>0.920281</td>\n",
              "      <td>-0.216586</td>\n",
              "      <td>-0.026219</td>\n",
              "      <td>-0.025001</td>\n",
              "      <td>1.00</td>\n",
              "      <td>160791</td>\n",
              "    </tr>\n",
              "  </tbody>\n",
              "</table>\n",
              "</div>"
            ],
            "text/plain": [
              "  Transaction        X1        X2        X3  ...       X27       X28     X29     X30\n",
              "0     T263275 -0.644278  5.002352 -8.252739  ...  0.663970  0.192067    0.77  160870\n",
              "1     T250007  2.091651 -0.169025 -1.668564  ... -0.082989 -0.072972    8.99  154679\n",
              "2     T255404  1.170756  2.501038 -4.986159  ...  0.481588  0.268226    4.97  157207\n",
              "3     T250006  1.801664 -0.894195 -0.156837  ...  0.067724 -0.007922  113.00  154679\n",
              "4     T263081  2.132386  0.705608 -3.530759  ... -0.026219 -0.025001    1.00  160791\n",
              "\n",
              "[5 rows x 31 columns]"
            ]
          },
          "metadata": {
            "tags": []
          },
          "execution_count": 33
        }
      ]
    },
    {
      "cell_type": "markdown",
      "metadata": {
        "id": "2HGdQCD7CW_y"
      },
      "source": [
        "#**TEST DATA: Understanding the test data frame**##"
      ]
    },
    {
      "cell_type": "code",
      "metadata": {
        "id": "U0IihcPNCeJf",
        "colab": {
          "base_uri": "https://localhost:8080/"
        },
        "outputId": "0219dee5-92f8-466b-aaa9-006aadeaf9ab"
      },
      "source": [
        "# Verify number of rows & columns \n",
        "print('(Rows, Columns) = ', df_Test.shape)"
      ],
      "execution_count": 34,
      "outputs": [
        {
          "output_type": "stream",
          "text": [
            "(Rows, Columns) =  (43, 31)\n"
          ],
          "name": "stdout"
        }
      ]
    },
    {
      "cell_type": "code",
      "metadata": {
        "id": "7XmpIlT6Cq3J",
        "colab": {
          "base_uri": "https://localhost:8080/",
          "height": 0
        },
        "outputId": "7a375c54-f84f-4c2c-e18c-5008fb038722"
      },
      "source": [
        "# Data frame visualization \n",
        "df_Test.head()"
      ],
      "execution_count": 35,
      "outputs": [
        {
          "output_type": "execute_result",
          "data": {
            "text/html": [
              "<div>\n",
              "<style scoped>\n",
              "    .dataframe tbody tr th:only-of-type {\n",
              "        vertical-align: middle;\n",
              "    }\n",
              "\n",
              "    .dataframe tbody tr th {\n",
              "        vertical-align: top;\n",
              "    }\n",
              "\n",
              "    .dataframe thead th {\n",
              "        text-align: right;\n",
              "    }\n",
              "</style>\n",
              "<table border=\"1\" class=\"dataframe\">\n",
              "  <thead>\n",
              "    <tr style=\"text-align: right;\">\n",
              "      <th></th>\n",
              "      <th>Transaction</th>\n",
              "      <th>X1</th>\n",
              "      <th>X2</th>\n",
              "      <th>X3</th>\n",
              "      <th>X4</th>\n",
              "      <th>X5</th>\n",
              "      <th>X6</th>\n",
              "      <th>X7</th>\n",
              "      <th>X8</th>\n",
              "      <th>X9</th>\n",
              "      <th>X10</th>\n",
              "      <th>X11</th>\n",
              "      <th>X12</th>\n",
              "      <th>X13</th>\n",
              "      <th>X14</th>\n",
              "      <th>X15</th>\n",
              "      <th>X16</th>\n",
              "      <th>X17</th>\n",
              "      <th>X18</th>\n",
              "      <th>X19</th>\n",
              "      <th>X20</th>\n",
              "      <th>X21</th>\n",
              "      <th>X22</th>\n",
              "      <th>X23</th>\n",
              "      <th>X24</th>\n",
              "      <th>X25</th>\n",
              "      <th>X26</th>\n",
              "      <th>X27</th>\n",
              "      <th>X28</th>\n",
              "      <th>X29</th>\n",
              "      <th>X30</th>\n",
              "    </tr>\n",
              "  </thead>\n",
              "  <tbody>\n",
              "    <tr>\n",
              "      <th>0</th>\n",
              "      <td>T263275</td>\n",
              "      <td>-0.644278</td>\n",
              "      <td>5.002352</td>\n",
              "      <td>-8.252739</td>\n",
              "      <td>7.756915</td>\n",
              "      <td>-0.216267</td>\n",
              "      <td>-2.751496</td>\n",
              "      <td>-3.358857</td>\n",
              "      <td>1.406268</td>\n",
              "      <td>-4.403852</td>\n",
              "      <td>-5.945634</td>\n",
              "      <td>4.475905</td>\n",
              "      <td>-7.607261</td>\n",
              "      <td>-0.160723</td>\n",
              "      <td>-13.010749</td>\n",
              "      <td>1.094382</td>\n",
              "      <td>-2.864039</td>\n",
              "      <td>-2.871342</td>\n",
              "      <td>-0.180614</td>\n",
              "      <td>0.647709</td>\n",
              "      <td>0.816558</td>\n",
              "      <td>0.587728</td>\n",
              "      <td>-0.605759</td>\n",
              "      <td>0.033746</td>\n",
              "      <td>-0.756170</td>\n",
              "      <td>-0.008172</td>\n",
              "      <td>0.532772</td>\n",
              "      <td>0.663970</td>\n",
              "      <td>0.192067</td>\n",
              "      <td>0.77</td>\n",
              "      <td>160870</td>\n",
              "    </tr>\n",
              "    <tr>\n",
              "      <th>1</th>\n",
              "      <td>T250007</td>\n",
              "      <td>2.091651</td>\n",
              "      <td>-0.169025</td>\n",
              "      <td>-1.668564</td>\n",
              "      <td>-0.058837</td>\n",
              "      <td>0.684833</td>\n",
              "      <td>0.148902</td>\n",
              "      <td>0.003661</td>\n",
              "      <td>-0.018512</td>\n",
              "      <td>0.358000</td>\n",
              "      <td>0.235923</td>\n",
              "      <td>-0.042033</td>\n",
              "      <td>0.674443</td>\n",
              "      <td>0.086213</td>\n",
              "      <td>0.414888</td>\n",
              "      <td>-0.524910</td>\n",
              "      <td>0.439062</td>\n",
              "      <td>-0.948905</td>\n",
              "      <td>0.028002</td>\n",
              "      <td>0.852307</td>\n",
              "      <td>-0.139733</td>\n",
              "      <td>-0.311108</td>\n",
              "      <td>-0.854486</td>\n",
              "      <td>0.225296</td>\n",
              "      <td>-0.354132</td>\n",
              "      <td>-0.171976</td>\n",
              "      <td>0.210693</td>\n",
              "      <td>-0.082989</td>\n",
              "      <td>-0.072972</td>\n",
              "      <td>8.99</td>\n",
              "      <td>154679</td>\n",
              "    </tr>\n",
              "    <tr>\n",
              "      <th>2</th>\n",
              "      <td>T255404</td>\n",
              "      <td>1.170756</td>\n",
              "      <td>2.501038</td>\n",
              "      <td>-4.986159</td>\n",
              "      <td>5.374160</td>\n",
              "      <td>0.997798</td>\n",
              "      <td>-1.259004</td>\n",
              "      <td>-1.237689</td>\n",
              "      <td>0.358426</td>\n",
              "      <td>-2.612489</td>\n",
              "      <td>-3.064730</td>\n",
              "      <td>3.480602</td>\n",
              "      <td>-3.735153</td>\n",
              "      <td>-0.594778</td>\n",
              "      <td>-8.229952</td>\n",
              "      <td>-1.476094</td>\n",
              "      <td>-0.408471</td>\n",
              "      <td>-1.481283</td>\n",
              "      <td>0.347627</td>\n",
              "      <td>-1.164414</td>\n",
              "      <td>0.227618</td>\n",
              "      <td>0.123145</td>\n",
              "      <td>-0.713201</td>\n",
              "      <td>-0.080868</td>\n",
              "      <td>-0.964310</td>\n",
              "      <td>0.338568</td>\n",
              "      <td>0.068630</td>\n",
              "      <td>0.481588</td>\n",
              "      <td>0.268226</td>\n",
              "      <td>4.97</td>\n",
              "      <td>157207</td>\n",
              "    </tr>\n",
              "    <tr>\n",
              "      <th>3</th>\n",
              "      <td>T250006</td>\n",
              "      <td>1.801664</td>\n",
              "      <td>-0.894195</td>\n",
              "      <td>-0.156837</td>\n",
              "      <td>0.611137</td>\n",
              "      <td>-1.047178</td>\n",
              "      <td>-0.129124</td>\n",
              "      <td>-0.733517</td>\n",
              "      <td>0.014156</td>\n",
              "      <td>-0.625758</td>\n",
              "      <td>1.090806</td>\n",
              "      <td>0.916235</td>\n",
              "      <td>1.256150</td>\n",
              "      <td>1.206246</td>\n",
              "      <td>-0.045645</td>\n",
              "      <td>-0.126912</td>\n",
              "      <td>-0.898035</td>\n",
              "      <td>-0.735040</td>\n",
              "      <td>1.615621</td>\n",
              "      <td>-1.195031</td>\n",
              "      <td>-0.381646</td>\n",
              "      <td>-0.341791</td>\n",
              "      <td>-0.653244</td>\n",
              "      <td>0.345701</td>\n",
              "      <td>-0.070720</td>\n",
              "      <td>-0.568136</td>\n",
              "      <td>-0.956699</td>\n",
              "      <td>0.067724</td>\n",
              "      <td>-0.007922</td>\n",
              "      <td>113.00</td>\n",
              "      <td>154679</td>\n",
              "    </tr>\n",
              "    <tr>\n",
              "      <th>4</th>\n",
              "      <td>T263081</td>\n",
              "      <td>2.132386</td>\n",
              "      <td>0.705608</td>\n",
              "      <td>-3.530759</td>\n",
              "      <td>0.514779</td>\n",
              "      <td>1.527175</td>\n",
              "      <td>-1.716268</td>\n",
              "      <td>1.132791</td>\n",
              "      <td>-0.574214</td>\n",
              "      <td>0.128904</td>\n",
              "      <td>-1.000805</td>\n",
              "      <td>-0.191191</td>\n",
              "      <td>-0.323794</td>\n",
              "      <td>-0.572456</td>\n",
              "      <td>-1.422064</td>\n",
              "      <td>0.314684</td>\n",
              "      <td>-0.387162</td>\n",
              "      <td>1.734742</td>\n",
              "      <td>0.610976</td>\n",
              "      <td>-0.221267</td>\n",
              "      <td>-0.211167</td>\n",
              "      <td>0.163739</td>\n",
              "      <td>0.703910</td>\n",
              "      <td>-0.245076</td>\n",
              "      <td>0.460049</td>\n",
              "      <td>0.920281</td>\n",
              "      <td>-0.216586</td>\n",
              "      <td>-0.026219</td>\n",
              "      <td>-0.025001</td>\n",
              "      <td>1.00</td>\n",
              "      <td>160791</td>\n",
              "    </tr>\n",
              "  </tbody>\n",
              "</table>\n",
              "</div>"
            ],
            "text/plain": [
              "  Transaction        X1        X2        X3  ...       X27       X28     X29     X30\n",
              "0     T263275 -0.644278  5.002352 -8.252739  ...  0.663970  0.192067    0.77  160870\n",
              "1     T250007  2.091651 -0.169025 -1.668564  ... -0.082989 -0.072972    8.99  154679\n",
              "2     T255404  1.170756  2.501038 -4.986159  ...  0.481588  0.268226    4.97  157207\n",
              "3     T250006  1.801664 -0.894195 -0.156837  ...  0.067724 -0.007922  113.00  154679\n",
              "4     T263081  2.132386  0.705608 -3.530759  ... -0.026219 -0.025001    1.00  160791\n",
              "\n",
              "[5 rows x 31 columns]"
            ]
          },
          "metadata": {
            "tags": []
          },
          "execution_count": 35
        }
      ]
    },
    {
      "cell_type": "markdown",
      "metadata": {
        "id": "gAITMemt-nHp"
      },
      "source": [
        "#**TEST DATA: Data pre-processing**#"
      ]
    },
    {
      "cell_type": "code",
      "metadata": {
        "id": "xo0vMOv1-7uZ",
        "colab": {
          "base_uri": "https://localhost:8080/"
        },
        "outputId": "9926d8dd-5042-43b5-8f3b-ecec6d8be1bc"
      },
      "source": [
        "# Find NA rows\n",
        "na_rows_test = df_Test.isnull().sum()\n",
        "print(na_rows_test.sum())"
      ],
      "execution_count": 36,
      "outputs": [
        {
          "output_type": "stream",
          "text": [
            "0\n"
          ],
          "name": "stdout"
        }
      ]
    },
    {
      "cell_type": "code",
      "metadata": {
        "id": "OHLNjlQaAsgm"
      },
      "source": [
        "# Remove 'Transaction' column \n",
        "x_test_df = df_Test.drop(columns=['Transaction'])"
      ],
      "execution_count": 37,
      "outputs": []
    },
    {
      "cell_type": "code",
      "metadata": {
        "colab": {
          "base_uri": "https://localhost:8080/",
          "height": 0
        },
        "id": "KdNHgZhI2rXu",
        "outputId": "7efff28d-6814-4258-82bd-b584f23422ac"
      },
      "source": [
        "x_test_df.head()"
      ],
      "execution_count": 38,
      "outputs": [
        {
          "output_type": "execute_result",
          "data": {
            "text/html": [
              "<div>\n",
              "<style scoped>\n",
              "    .dataframe tbody tr th:only-of-type {\n",
              "        vertical-align: middle;\n",
              "    }\n",
              "\n",
              "    .dataframe tbody tr th {\n",
              "        vertical-align: top;\n",
              "    }\n",
              "\n",
              "    .dataframe thead th {\n",
              "        text-align: right;\n",
              "    }\n",
              "</style>\n",
              "<table border=\"1\" class=\"dataframe\">\n",
              "  <thead>\n",
              "    <tr style=\"text-align: right;\">\n",
              "      <th></th>\n",
              "      <th>X1</th>\n",
              "      <th>X2</th>\n",
              "      <th>X3</th>\n",
              "      <th>X4</th>\n",
              "      <th>X5</th>\n",
              "      <th>X6</th>\n",
              "      <th>X7</th>\n",
              "      <th>X8</th>\n",
              "      <th>X9</th>\n",
              "      <th>X10</th>\n",
              "      <th>X11</th>\n",
              "      <th>X12</th>\n",
              "      <th>X13</th>\n",
              "      <th>X14</th>\n",
              "      <th>X15</th>\n",
              "      <th>X16</th>\n",
              "      <th>X17</th>\n",
              "      <th>X18</th>\n",
              "      <th>X19</th>\n",
              "      <th>X20</th>\n",
              "      <th>X21</th>\n",
              "      <th>X22</th>\n",
              "      <th>X23</th>\n",
              "      <th>X24</th>\n",
              "      <th>X25</th>\n",
              "      <th>X26</th>\n",
              "      <th>X27</th>\n",
              "      <th>X28</th>\n",
              "      <th>X29</th>\n",
              "      <th>X30</th>\n",
              "    </tr>\n",
              "  </thead>\n",
              "  <tbody>\n",
              "    <tr>\n",
              "      <th>0</th>\n",
              "      <td>-0.644278</td>\n",
              "      <td>5.002352</td>\n",
              "      <td>-8.252739</td>\n",
              "      <td>7.756915</td>\n",
              "      <td>-0.216267</td>\n",
              "      <td>-2.751496</td>\n",
              "      <td>-3.358857</td>\n",
              "      <td>1.406268</td>\n",
              "      <td>-4.403852</td>\n",
              "      <td>-5.945634</td>\n",
              "      <td>4.475905</td>\n",
              "      <td>-7.607261</td>\n",
              "      <td>-0.160723</td>\n",
              "      <td>-13.010749</td>\n",
              "      <td>1.094382</td>\n",
              "      <td>-2.864039</td>\n",
              "      <td>-2.871342</td>\n",
              "      <td>-0.180614</td>\n",
              "      <td>0.647709</td>\n",
              "      <td>0.816558</td>\n",
              "      <td>0.587728</td>\n",
              "      <td>-0.605759</td>\n",
              "      <td>0.033746</td>\n",
              "      <td>-0.756170</td>\n",
              "      <td>-0.008172</td>\n",
              "      <td>0.532772</td>\n",
              "      <td>0.663970</td>\n",
              "      <td>0.192067</td>\n",
              "      <td>0.77</td>\n",
              "      <td>160870</td>\n",
              "    </tr>\n",
              "    <tr>\n",
              "      <th>1</th>\n",
              "      <td>2.091651</td>\n",
              "      <td>-0.169025</td>\n",
              "      <td>-1.668564</td>\n",
              "      <td>-0.058837</td>\n",
              "      <td>0.684833</td>\n",
              "      <td>0.148902</td>\n",
              "      <td>0.003661</td>\n",
              "      <td>-0.018512</td>\n",
              "      <td>0.358000</td>\n",
              "      <td>0.235923</td>\n",
              "      <td>-0.042033</td>\n",
              "      <td>0.674443</td>\n",
              "      <td>0.086213</td>\n",
              "      <td>0.414888</td>\n",
              "      <td>-0.524910</td>\n",
              "      <td>0.439062</td>\n",
              "      <td>-0.948905</td>\n",
              "      <td>0.028002</td>\n",
              "      <td>0.852307</td>\n",
              "      <td>-0.139733</td>\n",
              "      <td>-0.311108</td>\n",
              "      <td>-0.854486</td>\n",
              "      <td>0.225296</td>\n",
              "      <td>-0.354132</td>\n",
              "      <td>-0.171976</td>\n",
              "      <td>0.210693</td>\n",
              "      <td>-0.082989</td>\n",
              "      <td>-0.072972</td>\n",
              "      <td>8.99</td>\n",
              "      <td>154679</td>\n",
              "    </tr>\n",
              "    <tr>\n",
              "      <th>2</th>\n",
              "      <td>1.170756</td>\n",
              "      <td>2.501038</td>\n",
              "      <td>-4.986159</td>\n",
              "      <td>5.374160</td>\n",
              "      <td>0.997798</td>\n",
              "      <td>-1.259004</td>\n",
              "      <td>-1.237689</td>\n",
              "      <td>0.358426</td>\n",
              "      <td>-2.612489</td>\n",
              "      <td>-3.064730</td>\n",
              "      <td>3.480602</td>\n",
              "      <td>-3.735153</td>\n",
              "      <td>-0.594778</td>\n",
              "      <td>-8.229952</td>\n",
              "      <td>-1.476094</td>\n",
              "      <td>-0.408471</td>\n",
              "      <td>-1.481283</td>\n",
              "      <td>0.347627</td>\n",
              "      <td>-1.164414</td>\n",
              "      <td>0.227618</td>\n",
              "      <td>0.123145</td>\n",
              "      <td>-0.713201</td>\n",
              "      <td>-0.080868</td>\n",
              "      <td>-0.964310</td>\n",
              "      <td>0.338568</td>\n",
              "      <td>0.068630</td>\n",
              "      <td>0.481588</td>\n",
              "      <td>0.268226</td>\n",
              "      <td>4.97</td>\n",
              "      <td>157207</td>\n",
              "    </tr>\n",
              "    <tr>\n",
              "      <th>3</th>\n",
              "      <td>1.801664</td>\n",
              "      <td>-0.894195</td>\n",
              "      <td>-0.156837</td>\n",
              "      <td>0.611137</td>\n",
              "      <td>-1.047178</td>\n",
              "      <td>-0.129124</td>\n",
              "      <td>-0.733517</td>\n",
              "      <td>0.014156</td>\n",
              "      <td>-0.625758</td>\n",
              "      <td>1.090806</td>\n",
              "      <td>0.916235</td>\n",
              "      <td>1.256150</td>\n",
              "      <td>1.206246</td>\n",
              "      <td>-0.045645</td>\n",
              "      <td>-0.126912</td>\n",
              "      <td>-0.898035</td>\n",
              "      <td>-0.735040</td>\n",
              "      <td>1.615621</td>\n",
              "      <td>-1.195031</td>\n",
              "      <td>-0.381646</td>\n",
              "      <td>-0.341791</td>\n",
              "      <td>-0.653244</td>\n",
              "      <td>0.345701</td>\n",
              "      <td>-0.070720</td>\n",
              "      <td>-0.568136</td>\n",
              "      <td>-0.956699</td>\n",
              "      <td>0.067724</td>\n",
              "      <td>-0.007922</td>\n",
              "      <td>113.00</td>\n",
              "      <td>154679</td>\n",
              "    </tr>\n",
              "    <tr>\n",
              "      <th>4</th>\n",
              "      <td>2.132386</td>\n",
              "      <td>0.705608</td>\n",
              "      <td>-3.530759</td>\n",
              "      <td>0.514779</td>\n",
              "      <td>1.527175</td>\n",
              "      <td>-1.716268</td>\n",
              "      <td>1.132791</td>\n",
              "      <td>-0.574214</td>\n",
              "      <td>0.128904</td>\n",
              "      <td>-1.000805</td>\n",
              "      <td>-0.191191</td>\n",
              "      <td>-0.323794</td>\n",
              "      <td>-0.572456</td>\n",
              "      <td>-1.422064</td>\n",
              "      <td>0.314684</td>\n",
              "      <td>-0.387162</td>\n",
              "      <td>1.734742</td>\n",
              "      <td>0.610976</td>\n",
              "      <td>-0.221267</td>\n",
              "      <td>-0.211167</td>\n",
              "      <td>0.163739</td>\n",
              "      <td>0.703910</td>\n",
              "      <td>-0.245076</td>\n",
              "      <td>0.460049</td>\n",
              "      <td>0.920281</td>\n",
              "      <td>-0.216586</td>\n",
              "      <td>-0.026219</td>\n",
              "      <td>-0.025001</td>\n",
              "      <td>1.00</td>\n",
              "      <td>160791</td>\n",
              "    </tr>\n",
              "  </tbody>\n",
              "</table>\n",
              "</div>"
            ],
            "text/plain": [
              "         X1        X2        X3        X4  ...       X27       X28     X29     X30\n",
              "0 -0.644278  5.002352 -8.252739  7.756915  ...  0.663970  0.192067    0.77  160870\n",
              "1  2.091651 -0.169025 -1.668564 -0.058837  ... -0.082989 -0.072972    8.99  154679\n",
              "2  1.170756  2.501038 -4.986159  5.374160  ...  0.481588  0.268226    4.97  157207\n",
              "3  1.801664 -0.894195 -0.156837  0.611137  ...  0.067724 -0.007922  113.00  154679\n",
              "4  2.132386  0.705608 -3.530759  0.514779  ... -0.026219 -0.025001    1.00  160791\n",
              "\n",
              "[5 rows x 30 columns]"
            ]
          },
          "metadata": {
            "tags": []
          },
          "execution_count": 38
        }
      ]
    },
    {
      "cell_type": "code",
      "metadata": {
        "colab": {
          "base_uri": "https://localhost:8080/"
        },
        "id": "UVHtSLaT07T_",
        "outputId": "3a5d76c6-3f0b-4ebf-e528-1f03ebf8a538"
      },
      "source": [
        "# Standarize data set\n",
        "scaler = StandardScaler()\n",
        "scaler.fit(x_test_df)"
      ],
      "execution_count": 39,
      "outputs": [
        {
          "output_type": "execute_result",
          "data": {
            "text/plain": [
              "StandardScaler(copy=True, with_mean=True, with_std=True)"
            ]
          },
          "metadata": {
            "tags": []
          },
          "execution_count": 39
        }
      ]
    },
    {
      "cell_type": "code",
      "metadata": {
        "id": "HAGJphDL1HLl"
      },
      "source": [
        "x_test_df = scaler.transform(x_test_df)"
      ],
      "execution_count": 40,
      "outputs": []
    },
    {
      "cell_type": "markdown",
      "metadata": {
        "id": "dmizCELHAAS1"
      },
      "source": [
        "#**Predictions Model 5: MLP-SMOTE**#"
      ]
    },
    {
      "cell_type": "code",
      "metadata": {
        "id": "xEVkwHWH_8iH"
      },
      "source": [
        "Y_hat = best_grid_MLP_5.predict(x_test_df)"
      ],
      "execution_count": null,
      "outputs": []
    },
    {
      "cell_type": "code",
      "metadata": {
        "id": "xUnqXxc5FTW9",
        "colab": {
          "base_uri": "https://localhost:8080/"
        },
        "outputId": "cba33d4e-74bb-4759-a1a2-5b9218fd84d4"
      },
      "source": [
        "df_Test['Y_hat'] = Y_hat\n",
        "df_Test['Y_hat'].value_counts()"
      ],
      "execution_count": null,
      "outputs": [
        {
          "output_type": "execute_result",
          "data": {
            "text/plain": [
              "0    30\n",
              "1    13\n",
              "Name: Y_hat, dtype: int64"
            ]
          },
          "metadata": {
            "tags": []
          },
          "execution_count": 53
        }
      ]
    },
    {
      "cell_type": "code",
      "metadata": {
        "id": "fjL8FlqPFj49",
        "colab": {
          "base_uri": "https://localhost:8080/",
          "height": 336
        },
        "outputId": "031bdd54-0089-47a5-99b0-ff0c09b331e8"
      },
      "source": [
        "sns.countplot(Y_hat)"
      ],
      "execution_count": null,
      "outputs": [
        {
          "output_type": "stream",
          "text": [
            "/usr/local/lib/python3.7/dist-packages/seaborn/_decorators.py:43: FutureWarning: Pass the following variable as a keyword arg: x. From version 0.12, the only valid positional argument will be `data`, and passing other arguments without an explicit keyword will result in an error or misinterpretation.\n",
            "  FutureWarning\n"
          ],
          "name": "stderr"
        },
        {
          "output_type": "execute_result",
          "data": {
            "text/plain": [
              "<matplotlib.axes._subplots.AxesSubplot at 0x7ff81b953290>"
            ]
          },
          "metadata": {
            "tags": []
          },
          "execution_count": 54
        },
        {
          "output_type": "display_data",
          "data": {
            "image/png": "[encoded data removed]",
            "text/plain": [
              "<Figure size 432x288 with 1 Axes>"
            ]
          },
          "metadata": {
            "tags": [],
            "needs_background": "light"
          }
        }
      ]
    },
    {
      "cell_type": "code",
      "metadata": {
        "colab": {
          "base_uri": "https://localhost:8080/",
          "height": 17
        },
        "id": "9N3w4xbG8sAO",
        "outputId": "db0d11b3-2283-402c-d55f-16ef400eab3c"
      },
      "source": [
        "np.savetxt(\"Y_hat_predictions.csv\", Y_hat)\n",
        "files.download('Y_hat_predictions.csv')"
      ],
      "execution_count": null,
      "outputs": [
        {
          "output_type": "display_data",
          "data": {
            "application/javascript": [
              "\n",
              "    async function download(id, filename, size) {\n",
              "      if (!google.colab.kernel.accessAllowed) {\n",
              "        return;\n",
              "      }\n",
              "      const div = document.createElement('div');\n",
              "      const label = document.createElement('label');\n",
              "      label.textContent = `Downloading \"${filename}\": `;\n",
              "      div.appendChild(label);\n",
              "      const progress = document.createElement('progress');\n",
              "      progress.max = size;\n",
              "      div.appendChild(progress);\n",
              "      document.body.appendChild(div);\n",
              "\n",
              "      const buffers = [];\n",
              "      let downloaded = 0;\n",
              "\n",
              "      const channel = await google.colab.kernel.comms.open(id);\n",
              "      // Send a message to notify the kernel that we're ready.\n",
              "      channel.send({})\n",
              "\n",
              "      for await (const message of channel.messages) {\n",
              "        // Send a message to notify the kernel that we're ready.\n",
              "        channel.send({})\n",
              "        if (message.buffers) {\n",
              "          for (const buffer of message.buffers) {\n",
              "            buffers.push(buffer);\n",
              "            downloaded += buffer.byteLength;\n",
              "            progress.value = downloaded;\n",
              "          }\n",
              "        }\n",
              "      }\n",
              "      const blob = new Blob(buffers, {type: 'application/binary'});\n",
              "      const a = document.createElement('a');\n",
              "      a.href = window.URL.createObjectURL(blob);\n",
              "      a.download = filename;\n",
              "      div.appendChild(a);\n",
              "      a.click();\n",
              "      div.remove();\n",
              "    }\n",
              "  "
            ],
            "text/plain": [
              "<IPython.core.display.Javascript object>"
            ]
          },
          "metadata": {
            "tags": []
          }
        },
        {
          "output_type": "display_data",
          "data": {
            "application/javascript": [
              "download(\"download_310e91a7-b4fc-460f-af39-6d021c7b7ddd\", \"Y_hat_predictions.csv\", 1075)"
            ],
            "text/plain": [
              "<IPython.core.display.Javascript object>"
            ]
          },
          "metadata": {
            "tags": []
          }
        }
      ]
    },
    {
      "cell_type": "markdown",
      "metadata": {
        "id": "HGMltmuGeSUW"
      },
      "source": [
        "#**Predictions Model 6: Random Forest Classifier**#"
      ]
    },
    {
      "cell_type": "code",
      "metadata": {
        "colab": {
          "base_uri": "https://localhost:8080/",
          "height": 224
        },
        "id": "oM7YpNsHewJA",
        "outputId": "71cb5882-53c8-429e-a047-73ff1ed4fb10"
      },
      "source": [
        "df_Test = pd.read_csv(io.StringIO(uploaded['imbalanced_testing_data_1_predictor_values.csv'].decode('utf-8')))\n",
        "df_Test.head()"
      ],
      "execution_count": 41,
      "outputs": [
        {
          "output_type": "execute_result",
          "data": {
            "text/html": [
              "<div>\n",
              "<style scoped>\n",
              "    .dataframe tbody tr th:only-of-type {\n",
              "        vertical-align: middle;\n",
              "    }\n",
              "\n",
              "    .dataframe tbody tr th {\n",
              "        vertical-align: top;\n",
              "    }\n",
              "\n",
              "    .dataframe thead th {\n",
              "        text-align: right;\n",
              "    }\n",
              "</style>\n",
              "<table border=\"1\" class=\"dataframe\">\n",
              "  <thead>\n",
              "    <tr style=\"text-align: right;\">\n",
              "      <th></th>\n",
              "      <th>Transaction</th>\n",
              "      <th>X1</th>\n",
              "      <th>X2</th>\n",
              "      <th>X3</th>\n",
              "      <th>X4</th>\n",
              "      <th>X5</th>\n",
              "      <th>X6</th>\n",
              "      <th>X7</th>\n",
              "      <th>X8</th>\n",
              "      <th>X9</th>\n",
              "      <th>X10</th>\n",
              "      <th>X11</th>\n",
              "      <th>X12</th>\n",
              "      <th>X13</th>\n",
              "      <th>X14</th>\n",
              "      <th>X15</th>\n",
              "      <th>X16</th>\n",
              "      <th>X17</th>\n",
              "      <th>X18</th>\n",
              "      <th>X19</th>\n",
              "      <th>X20</th>\n",
              "      <th>X21</th>\n",
              "      <th>X22</th>\n",
              "      <th>X23</th>\n",
              "      <th>X24</th>\n",
              "      <th>X25</th>\n",
              "      <th>X26</th>\n",
              "      <th>X27</th>\n",
              "      <th>X28</th>\n",
              "      <th>X29</th>\n",
              "      <th>X30</th>\n",
              "    </tr>\n",
              "  </thead>\n",
              "  <tbody>\n",
              "    <tr>\n",
              "      <th>0</th>\n",
              "      <td>T263275</td>\n",
              "      <td>-0.644278</td>\n",
              "      <td>5.002352</td>\n",
              "      <td>-8.252739</td>\n",
              "      <td>7.756915</td>\n",
              "      <td>-0.216267</td>\n",
              "      <td>-2.751496</td>\n",
              "      <td>-3.358857</td>\n",
              "      <td>1.406268</td>\n",
              "      <td>-4.403852</td>\n",
              "      <td>-5.945634</td>\n",
              "      <td>4.475905</td>\n",
              "      <td>-7.607261</td>\n",
              "      <td>-0.160723</td>\n",
              "      <td>-13.010749</td>\n",
              "      <td>1.094382</td>\n",
              "      <td>-2.864039</td>\n",
              "      <td>-2.871342</td>\n",
              "      <td>-0.180614</td>\n",
              "      <td>0.647709</td>\n",
              "      <td>0.816558</td>\n",
              "      <td>0.587728</td>\n",
              "      <td>-0.605759</td>\n",
              "      <td>0.033746</td>\n",
              "      <td>-0.756170</td>\n",
              "      <td>-0.008172</td>\n",
              "      <td>0.532772</td>\n",
              "      <td>0.663970</td>\n",
              "      <td>0.192067</td>\n",
              "      <td>0.77</td>\n",
              "      <td>160870</td>\n",
              "    </tr>\n",
              "    <tr>\n",
              "      <th>1</th>\n",
              "      <td>T250007</td>\n",
              "      <td>2.091651</td>\n",
              "      <td>-0.169025</td>\n",
              "      <td>-1.668564</td>\n",
              "      <td>-0.058837</td>\n",
              "      <td>0.684833</td>\n",
              "      <td>0.148902</td>\n",
              "      <td>0.003661</td>\n",
              "      <td>-0.018512</td>\n",
              "      <td>0.358000</td>\n",
              "      <td>0.235923</td>\n",
              "      <td>-0.042033</td>\n",
              "      <td>0.674443</td>\n",
              "      <td>0.086213</td>\n",
              "      <td>0.414888</td>\n",
              "      <td>-0.524910</td>\n",
              "      <td>0.439062</td>\n",
              "      <td>-0.948905</td>\n",
              "      <td>0.028002</td>\n",
              "      <td>0.852307</td>\n",
              "      <td>-0.139733</td>\n",
              "      <td>-0.311108</td>\n",
              "      <td>-0.854486</td>\n",
              "      <td>0.225296</td>\n",
              "      <td>-0.354132</td>\n",
              "      <td>-0.171976</td>\n",
              "      <td>0.210693</td>\n",
              "      <td>-0.082989</td>\n",
              "      <td>-0.072972</td>\n",
              "      <td>8.99</td>\n",
              "      <td>154679</td>\n",
              "    </tr>\n",
              "    <tr>\n",
              "      <th>2</th>\n",
              "      <td>T255404</td>\n",
              "      <td>1.170756</td>\n",
              "      <td>2.501038</td>\n",
              "      <td>-4.986159</td>\n",
              "      <td>5.374160</td>\n",
              "      <td>0.997798</td>\n",
              "      <td>-1.259004</td>\n",
              "      <td>-1.237689</td>\n",
              "      <td>0.358426</td>\n",
              "      <td>-2.612489</td>\n",
              "      <td>-3.064730</td>\n",
              "      <td>3.480602</td>\n",
              "      <td>-3.735153</td>\n",
              "      <td>-0.594778</td>\n",
              "      <td>-8.229952</td>\n",
              "      <td>-1.476094</td>\n",
              "      <td>-0.408471</td>\n",
              "      <td>-1.481283</td>\n",
              "      <td>0.347627</td>\n",
              "      <td>-1.164414</td>\n",
              "      <td>0.227618</td>\n",
              "      <td>0.123145</td>\n",
              "      <td>-0.713201</td>\n",
              "      <td>-0.080868</td>\n",
              "      <td>-0.964310</td>\n",
              "      <td>0.338568</td>\n",
              "      <td>0.068630</td>\n",
              "      <td>0.481588</td>\n",
              "      <td>0.268226</td>\n",
              "      <td>4.97</td>\n",
              "      <td>157207</td>\n",
              "    </tr>\n",
              "    <tr>\n",
              "      <th>3</th>\n",
              "      <td>T250006</td>\n",
              "      <td>1.801664</td>\n",
              "      <td>-0.894195</td>\n",
              "      <td>-0.156837</td>\n",
              "      <td>0.611137</td>\n",
              "      <td>-1.047178</td>\n",
              "      <td>-0.129124</td>\n",
              "      <td>-0.733517</td>\n",
              "      <td>0.014156</td>\n",
              "      <td>-0.625758</td>\n",
              "      <td>1.090806</td>\n",
              "      <td>0.916235</td>\n",
              "      <td>1.256150</td>\n",
              "      <td>1.206246</td>\n",
              "      <td>-0.045645</td>\n",
              "      <td>-0.126912</td>\n",
              "      <td>-0.898035</td>\n",
              "      <td>-0.735040</td>\n",
              "      <td>1.615621</td>\n",
              "      <td>-1.195031</td>\n",
              "      <td>-0.381646</td>\n",
              "      <td>-0.341791</td>\n",
              "      <td>-0.653244</td>\n",
              "      <td>0.345701</td>\n",
              "      <td>-0.070720</td>\n",
              "      <td>-0.568136</td>\n",
              "      <td>-0.956699</td>\n",
              "      <td>0.067724</td>\n",
              "      <td>-0.007922</td>\n",
              "      <td>113.00</td>\n",
              "      <td>154679</td>\n",
              "    </tr>\n",
              "    <tr>\n",
              "      <th>4</th>\n",
              "      <td>T263081</td>\n",
              "      <td>2.132386</td>\n",
              "      <td>0.705608</td>\n",
              "      <td>-3.530759</td>\n",
              "      <td>0.514779</td>\n",
              "      <td>1.527175</td>\n",
              "      <td>-1.716268</td>\n",
              "      <td>1.132791</td>\n",
              "      <td>-0.574214</td>\n",
              "      <td>0.128904</td>\n",
              "      <td>-1.000805</td>\n",
              "      <td>-0.191191</td>\n",
              "      <td>-0.323794</td>\n",
              "      <td>-0.572456</td>\n",
              "      <td>-1.422064</td>\n",
              "      <td>0.314684</td>\n",
              "      <td>-0.387162</td>\n",
              "      <td>1.734742</td>\n",
              "      <td>0.610976</td>\n",
              "      <td>-0.221267</td>\n",
              "      <td>-0.211167</td>\n",
              "      <td>0.163739</td>\n",
              "      <td>0.703910</td>\n",
              "      <td>-0.245076</td>\n",
              "      <td>0.460049</td>\n",
              "      <td>0.920281</td>\n",
              "      <td>-0.216586</td>\n",
              "      <td>-0.026219</td>\n",
              "      <td>-0.025001</td>\n",
              "      <td>1.00</td>\n",
              "      <td>160791</td>\n",
              "    </tr>\n",
              "  </tbody>\n",
              "</table>\n",
              "</div>"
            ],
            "text/plain": [
              "  Transaction        X1        X2        X3  ...       X27       X28     X29     X30\n",
              "0     T263275 -0.644278  5.002352 -8.252739  ...  0.663970  0.192067    0.77  160870\n",
              "1     T250007  2.091651 -0.169025 -1.668564  ... -0.082989 -0.072972    8.99  154679\n",
              "2     T255404  1.170756  2.501038 -4.986159  ...  0.481588  0.268226    4.97  157207\n",
              "3     T250006  1.801664 -0.894195 -0.156837  ...  0.067724 -0.007922  113.00  154679\n",
              "4     T263081  2.132386  0.705608 -3.530759  ... -0.026219 -0.025001    1.00  160791\n",
              "\n",
              "[5 rows x 31 columns]"
            ]
          },
          "metadata": {
            "tags": []
          },
          "execution_count": 41
        }
      ]
    },
    {
      "cell_type": "code",
      "metadata": {
        "id": "bgbXuq9_e0LO"
      },
      "source": [
        "# Remove 'Transaction' column \n",
        "x_test_df = df_Test.drop(columns=['Transaction'])"
      ],
      "execution_count": 42,
      "outputs": []
    },
    {
      "cell_type": "code",
      "metadata": {
        "id": "QQFjjUObeSUl"
      },
      "source": [
        "Y_hat = best_grid_rf.predict(x_test_df)"
      ],
      "execution_count": 72,
      "outputs": []
    },
    {
      "cell_type": "code",
      "metadata": {
        "colab": {
          "base_uri": "https://localhost:8080/"
        },
        "id": "owm1VBGNeSUm",
        "outputId": "f6c605b1-d812-41f6-bec5-b1158b3a7908"
      },
      "source": [
        "df_Test['Y_hat'] = Y_hat\n",
        "df_Test['Y_hat'].value_counts()"
      ],
      "execution_count": 73,
      "outputs": [
        {
          "output_type": "execute_result",
          "data": {
            "text/plain": [
              "0    23\n",
              "1    20\n",
              "Name: Y_hat, dtype: int64"
            ]
          },
          "metadata": {
            "tags": []
          },
          "execution_count": 73
        }
      ]
    },
    {
      "cell_type": "code",
      "metadata": {
        "colab": {
          "base_uri": "https://localhost:8080/",
          "height": 336
        },
        "id": "HoeCyQsTeSUm",
        "outputId": "8e344d8c-77ea-4789-8c57-43c73a393e92"
      },
      "source": [
        "sns.countplot(Y_hat)"
      ],
      "execution_count": 74,
      "outputs": [
        {
          "output_type": "stream",
          "text": [
            "/usr/local/lib/python3.7/dist-packages/seaborn/_decorators.py:43: FutureWarning: Pass the following variable as a keyword arg: x. From version 0.12, the only valid positional argument will be `data`, and passing other arguments without an explicit keyword will result in an error or misinterpretation.\n",
            "  FutureWarning\n"
          ],
          "name": "stderr"
        },
        {
          "output_type": "execute_result",
          "data": {
            "text/plain": [
              "<matplotlib.axes._subplots.AxesSubplot at 0x7f4d20285690>"
            ]
          },
          "metadata": {
            "tags": []
          },
          "execution_count": 74
        },
        {
          "output_type": "display_data",
          "data": {
            "image/png": "[encoded data removed]",
            "text/plain": [
              "<Figure size 432x288 with 1 Axes>"
            ]
          },
          "metadata": {
            "tags": [],
            "needs_background": "light"
          }
        }
      ]
    },
    {
      "cell_type": "code",
      "metadata": {
        "colab": {
          "base_uri": "https://localhost:8080/",
          "height": 17
        },
        "id": "48f4LMoheSUn",
        "outputId": "db0d11b3-2283-402c-d55f-16ef400eab3c"
      },
      "source": [
        "np.savetxt(\"Y_hat_predictions.csv\", Y_hat)\n",
        "files.download('Y_hat_predictions.csv')"
      ],
      "execution_count": null,
      "outputs": [
        {
          "output_type": "display_data",
          "data": {
            "application/javascript": [
              "\n",
              "    async function download(id, filename, size) {\n",
              "      if (!google.colab.kernel.accessAllowed) {\n",
              "        return;\n",
              "      }\n",
              "      const div = document.createElement('div');\n",
              "      const label = document.createElement('label');\n",
              "      label.textContent = `Downloading \"${filename}\": `;\n",
              "      div.appendChild(label);\n",
              "      const progress = document.createElement('progress');\n",
              "      progress.max = size;\n",
              "      div.appendChild(progress);\n",
              "      document.body.appendChild(div);\n",
              "\n",
              "      const buffers = [];\n",
              "      let downloaded = 0;\n",
              "\n",
              "      const channel = await google.colab.kernel.comms.open(id);\n",
              "      // Send a message to notify the kernel that we're ready.\n",
              "      channel.send({})\n",
              "\n",
              "      for await (const message of channel.messages) {\n",
              "        // Send a message to notify the kernel that we're ready.\n",
              "        channel.send({})\n",
              "        if (message.buffers) {\n",
              "          for (const buffer of message.buffers) {\n",
              "            buffers.push(buffer);\n",
              "            downloaded += buffer.byteLength;\n",
              "            progress.value = downloaded;\n",
              "          }\n",
              "        }\n",
              "      }\n",
              "      const blob = new Blob(buffers, {type: 'application/binary'});\n",
              "      const a = document.createElement('a');\n",
              "      a.href = window.URL.createObjectURL(blob);\n",
              "      a.download = filename;\n",
              "      div.appendChild(a);\n",
              "      a.click();\n",
              "      div.remove();\n",
              "    }\n",
              "  "
            ],
            "text/plain": [
              "<IPython.core.display.Javascript object>"
            ]
          },
          "metadata": {
            "tags": []
          }
        },
        {
          "output_type": "display_data",
          "data": {
            "application/javascript": [
              "download(\"download_310e91a7-b4fc-460f-af39-6d021c7b7ddd\", \"Y_hat_predictions.csv\", 1075)"
            ],
            "text/plain": [
              "<IPython.core.display.Javascript object>"
            ]
          },
          "metadata": {
            "tags": []
          }
        }
      ]
    }
  ]
}